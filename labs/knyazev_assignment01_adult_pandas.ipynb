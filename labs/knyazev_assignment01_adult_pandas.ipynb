{
 "cells": [
  {
   "cell_type": "markdown",
   "metadata": {},
   "source": [
    "<center>\n",
    "<img src=\"../../img/ods_stickers.jpg\">\n",
    "## Открытый курс по машинному обучению\n",
    "<center>\n",
    "Автор материала: Юрий Кашницкий, программист-исследователь Mail.Ru Group <br> \n",
    "\n",
    "Материал распространяется на условиях лицензии [Creative Commons CC BY-NC-SA 4.0](https://creativecommons.org/licenses/by-nc-sa/4.0/). Можно использовать в любых целях (редактировать, поправлять и брать за основу), кроме коммерческих, но с обязательным упоминанием автора материала."
   ]
  },
  {
   "cell_type": "markdown",
   "metadata": {},
   "source": [
    "# <center>Домашнее задание № 1 (демо).<br> Анализ данных по доходу населения UCI Adult</center>"
   ]
  },
  {
   "cell_type": "markdown",
   "metadata": {},
   "source": [
    "**В задании предлагается с помощью Pandas ответить на несколько вопросов по данным репозитория UCI [Adult](https://archive.ics.uci.edu/ml/datasets/Adult) (качать данные не надо – они уже есть в репозитории). Для отправки решений используйте [онлайн-форму](https://docs.google.com/forms/d/1xAzU-5N6oEeR4UG8G44V6XL-Kbr4WYcPBG45Kijge2Y).**"
   ]
  },
  {
   "cell_type": "markdown",
   "metadata": {},
   "source": [
    "Уникальные значения признаков (больше информации по ссылке выше):\n",
    "- age: continuous.\n",
    "- workclass: Private, Self-emp-not-inc, Self-emp-inc, Federal-gov, Local-gov, State-gov, Without-pay, Never-worked.\n",
    "- fnlwgt: continuous.\n",
    "- education: Bachelors, Some-college, 11th, HS-grad, Prof-school, Assoc-acdm, Assoc-voc, 9th, 7th-8th, 12th, Masters, 1st-4th, 10th, Doctorate, 5th-6th, Preschool.\n",
    "- education-num: continuous.\n",
    "- marital-status: Married-civ-spouse, Divorced, Never-married, Separated, Widowed, Married-spouse-absent, Married-AF-spouse.\n",
    "- occupation: Tech-support, Craft-repair, Other-service, Sales, Exec-managerial, Prof-specialty, Handlers-cleaners, Machine-op-inspct, Adm-clerical, Farming-fishing, Transport-moving, Priv-house-serv, Protective-serv, Armed-Forces.\n",
    "- relationship: Wife, Own-child, Husband, Not-in-family, Other-relative, Unmarried.\n",
    "- race: White, Asian-Pac-Islander, Amer-Indian-Eskimo, Other, Black.\n",
    "- sex: Female, Male.\n",
    "- capital-gain: continuous.\n",
    "- capital-loss: continuous.\n",
    "- hours-per-week: continuous.\n",
    "- native-country: United-States, Cambodia, England, Puerto-Rico, Canada, Germany, Outlying-US(Guam-USVI-etc), India, Japan, Greece, South, China, Cuba, Iran, Honduras, Philippines, Italy, Poland, Jamaica, Vietnam, Mexico, Portugal, Ireland, France, Dominican-Republic, Laos, Ecuador, Taiwan, Haiti, Columbia, Hungary, Guatemala, Nicaragua, Scotland, Thailand, Yugoslavia, El-Salvador, Trinadad&Tobago, Peru, Hong, Holand-Netherlands.   \n",
    "- salary: >50K,<=50K"
   ]
  },
  {
   "cell_type": "code",
   "execution_count": 2,
   "metadata": {
    "collapsed": true
   },
   "outputs": [],
   "source": [
    "import pandas as pd"
   ]
  },
  {
   "cell_type": "code",
   "execution_count": 5,
   "metadata": {
    "collapsed": true
   },
   "outputs": [],
   "source": [
    "import numpy as np"
   ]
  },
  {
   "cell_type": "code",
   "execution_count": 6,
   "metadata": {
    "collapsed": false
   },
   "outputs": [
    {
     "data": {
      "text/html": [
       "<div>\n",
       "<table border=\"1\" class=\"dataframe\">\n",
       "  <thead>\n",
       "    <tr style=\"text-align: right;\">\n",
       "      <th></th>\n",
       "      <th>age</th>\n",
       "      <th>workclass</th>\n",
       "      <th>fnlwgt</th>\n",
       "      <th>education</th>\n",
       "      <th>education-num</th>\n",
       "      <th>marital-status</th>\n",
       "      <th>occupation</th>\n",
       "      <th>relationship</th>\n",
       "      <th>race</th>\n",
       "      <th>sex</th>\n",
       "      <th>capital-gain</th>\n",
       "      <th>capital-loss</th>\n",
       "      <th>hours-per-week</th>\n",
       "      <th>native-country</th>\n",
       "      <th>salary</th>\n",
       "    </tr>\n",
       "  </thead>\n",
       "  <tbody>\n",
       "    <tr>\n",
       "      <th>0</th>\n",
       "      <td>39</td>\n",
       "      <td>State-gov</td>\n",
       "      <td>77516</td>\n",
       "      <td>Bachelors</td>\n",
       "      <td>13</td>\n",
       "      <td>Never-married</td>\n",
       "      <td>Adm-clerical</td>\n",
       "      <td>Not-in-family</td>\n",
       "      <td>White</td>\n",
       "      <td>Male</td>\n",
       "      <td>2174</td>\n",
       "      <td>0</td>\n",
       "      <td>40</td>\n",
       "      <td>United-States</td>\n",
       "      <td>&lt;=50K</td>\n",
       "    </tr>\n",
       "    <tr>\n",
       "      <th>1</th>\n",
       "      <td>50</td>\n",
       "      <td>Self-emp-not-inc</td>\n",
       "      <td>83311</td>\n",
       "      <td>Bachelors</td>\n",
       "      <td>13</td>\n",
       "      <td>Married-civ-spouse</td>\n",
       "      <td>Exec-managerial</td>\n",
       "      <td>Husband</td>\n",
       "      <td>White</td>\n",
       "      <td>Male</td>\n",
       "      <td>0</td>\n",
       "      <td>0</td>\n",
       "      <td>13</td>\n",
       "      <td>United-States</td>\n",
       "      <td>&lt;=50K</td>\n",
       "    </tr>\n",
       "    <tr>\n",
       "      <th>2</th>\n",
       "      <td>38</td>\n",
       "      <td>Private</td>\n",
       "      <td>215646</td>\n",
       "      <td>HS-grad</td>\n",
       "      <td>9</td>\n",
       "      <td>Divorced</td>\n",
       "      <td>Handlers-cleaners</td>\n",
       "      <td>Not-in-family</td>\n",
       "      <td>White</td>\n",
       "      <td>Male</td>\n",
       "      <td>0</td>\n",
       "      <td>0</td>\n",
       "      <td>40</td>\n",
       "      <td>United-States</td>\n",
       "      <td>&lt;=50K</td>\n",
       "    </tr>\n",
       "    <tr>\n",
       "      <th>3</th>\n",
       "      <td>53</td>\n",
       "      <td>Private</td>\n",
       "      <td>234721</td>\n",
       "      <td>11th</td>\n",
       "      <td>7</td>\n",
       "      <td>Married-civ-spouse</td>\n",
       "      <td>Handlers-cleaners</td>\n",
       "      <td>Husband</td>\n",
       "      <td>Black</td>\n",
       "      <td>Male</td>\n",
       "      <td>0</td>\n",
       "      <td>0</td>\n",
       "      <td>40</td>\n",
       "      <td>United-States</td>\n",
       "      <td>&lt;=50K</td>\n",
       "    </tr>\n",
       "    <tr>\n",
       "      <th>4</th>\n",
       "      <td>28</td>\n",
       "      <td>Private</td>\n",
       "      <td>338409</td>\n",
       "      <td>Bachelors</td>\n",
       "      <td>13</td>\n",
       "      <td>Married-civ-spouse</td>\n",
       "      <td>Prof-specialty</td>\n",
       "      <td>Wife</td>\n",
       "      <td>Black</td>\n",
       "      <td>Female</td>\n",
       "      <td>0</td>\n",
       "      <td>0</td>\n",
       "      <td>40</td>\n",
       "      <td>Cuba</td>\n",
       "      <td>&lt;=50K</td>\n",
       "    </tr>\n",
       "  </tbody>\n",
       "</table>\n",
       "</div>"
      ],
      "text/plain": [
       "   age         workclass  fnlwgt  education  education-num  \\\n",
       "0   39         State-gov   77516  Bachelors             13   \n",
       "1   50  Self-emp-not-inc   83311  Bachelors             13   \n",
       "2   38           Private  215646    HS-grad              9   \n",
       "3   53           Private  234721       11th              7   \n",
       "4   28           Private  338409  Bachelors             13   \n",
       "\n",
       "       marital-status         occupation   relationship   race     sex  \\\n",
       "0       Never-married       Adm-clerical  Not-in-family  White    Male   \n",
       "1  Married-civ-spouse    Exec-managerial        Husband  White    Male   \n",
       "2            Divorced  Handlers-cleaners  Not-in-family  White    Male   \n",
       "3  Married-civ-spouse  Handlers-cleaners        Husband  Black    Male   \n",
       "4  Married-civ-spouse     Prof-specialty           Wife  Black  Female   \n",
       "\n",
       "   capital-gain  capital-loss  hours-per-week native-country salary  \n",
       "0          2174             0              40  United-States  <=50K  \n",
       "1             0             0              13  United-States  <=50K  \n",
       "2             0             0              40  United-States  <=50K  \n",
       "3             0             0              40  United-States  <=50K  \n",
       "4             0             0              40           Cuba  <=50K  "
      ]
     },
     "execution_count": 6,
     "metadata": {},
     "output_type": "execute_result"
    }
   ],
   "source": [
    "data = pd.read_csv('../data/adult.data.csv')\n",
    "data.head()"
   ]
  },
  {
   "cell_type": "markdown",
   "metadata": {},
   "source": [
    "**1. Сколько мужчин и женщин (признак *sex*) представлено в этом наборе данных?**"
   ]
  },
  {
   "cell_type": "code",
   "execution_count": 7,
   "metadata": {
    "collapsed": false
   },
   "outputs": [
    {
     "name": "stdout",
     "output_type": "stream",
     "text": [
      "Male: 21790 \n",
      "Female: 10771\n"
     ]
    }
   ],
   "source": [
    "femaleCount = data[data['sex'] == 'Female']['sex'].count()\n",
    "maleCount= data[data['sex'] == 'Male']['sex'].count()\n",
    "print(\"Male:\", maleCount,\"\\n\" \"Female:\", femaleCount)"
   ]
  },
  {
   "cell_type": "markdown",
   "metadata": {},
   "source": [
    "**2. Каков средний возраст (признак *age*) женщин?**"
   ]
  },
  {
   "cell_type": "code",
   "execution_count": 9,
   "metadata": {
    "collapsed": false
   },
   "outputs": [
    {
     "name": "stdout",
     "output_type": "stream",
     "text": [
      "Female age: 37.0\n"
     ]
    }
   ],
   "source": [
    "femaleAge = data[data['sex'] == 'Female']['age'].mean()\n",
    "k = round(femaleAge, 0)\n",
    "print(\"Female age:\", k)"
   ]
  },
  {
   "cell_type": "markdown",
   "metadata": {},
   "source": [
    "**3. Какова доля граждан Германии (признак *native-country*)?**"
   ]
  },
  {
   "cell_type": "code",
   "execution_count": 10,
   "metadata": {
    "collapsed": false
   },
   "outputs": [
    {
     "name": "stdout",
     "output_type": "stream",
     "text": [
      "Part of Germany's people: 0.42\n"
     ]
    }
   ],
   "source": [
    "partOfPeople = data[data['native-country'] == 'Germany']['native-country'].count() * 100 / data['native-country'].count()\n",
    "k = round(partOfPeople,2)\n",
    "print(\"Part of Germany's people:\", k)"
   ]
  },
  {
   "cell_type": "markdown",
   "metadata": {},
   "source": [
    "**4-5. Каковы средние значения и среднеквадратичные отклонения возраста тех, кто получает более 50K в год (признак *salary*) и тех, кто получает менее 50K в год? **"
   ]
  },
  {
   "cell_type": "code",
   "execution_count": 47,
   "metadata": {
    "collapsed": false
   },
   "outputs": [
    {
     "name": "stdout",
     "output_type": "stream",
     "text": [
      "\tMean age of \n",
      "Rich: 44.25 \n",
      "Poor: 36.78\n",
      "\tStd age of \n",
      "Rich: 10.52 \n",
      "Poor: 14.02\n"
     ]
    }
   ],
   "source": [
    "meanRich = round(data[data['salary'] == '>50K']['age'].mean(),2)\n",
    "meanPoor = round(data[data['salary'] == '<=50K']['age'].mean(),2)\n",
    "stdRich = round(data[data['salary'] == '>50K']['age'].std(),2)\n",
    "stdPoor = round(data[data['salary'] == '<=50K']['age'].std(),2)\n",
    "print(\"\\tMean age of \\nRich:\", meanRich,\"\\nPoor:\", meanPoor)\n",
    "print(\"\\tStd age of \\nRich:\", stdRich,\"\\nPoor:\", stdPoor)\n"
   ]
  },
  {
   "cell_type": "markdown",
   "metadata": {},
   "source": [
    "**6. Правда ли, что люди, которые получают больше 50k, имеют как минимум высшее образование? (признак *education – Bachelors, Prof-school, Assoc-acdm, Assoc-voc, Masters* или *Doctorate*)**"
   ]
  },
  {
   "cell_type": "code",
   "execution_count": 80,
   "metadata": {
    "collapsed": false
   },
   "outputs": [
    {
     "data": {
      "text/plain": [
       "education\n",
       "10th             >50K\n",
       "11th             >50K\n",
       "12th             >50K\n",
       "1st-4th          >50K\n",
       "5th-6th          >50K\n",
       "7th-8th          >50K\n",
       "9th              >50K\n",
       "Assoc-acdm       >50K\n",
       "Assoc-voc        >50K\n",
       "Bachelors        >50K\n",
       "Doctorate        >50K\n",
       "HS-grad          >50K\n",
       "Masters          >50K\n",
       "Preschool       <=50K\n",
       "Prof-school      >50K\n",
       "Some-college     >50K\n",
       "Name: salary, dtype: object"
      ]
     },
     "execution_count": 80,
     "metadata": {},
     "output_type": "execute_result"
    }
   ],
   "source": [
    "data.groupby(['education'])['salary'].max()\n"
   ]
  },
  {
   "cell_type": "markdown",
   "metadata": {},
   "source": [
    "**7. Выведите статистику возраста для каждой расы (признак *race*) и каждого пола. Используйте *groupby* и *describe*. Найдите таким образом максимальный возраст мужчин расы *Amer-Indian-Eskimo*.**"
   ]
  },
  {
   "cell_type": "code",
   "execution_count": 71,
   "metadata": {
    "collapsed": false
   },
   "outputs": [
    {
     "name": "stdout",
     "output_type": "stream",
     "text": [
      " race                sex          \n",
      "Amer-Indian-Eskimo  Female  count      119.000000\n",
      "                            mean        37.117647\n",
      "                            std         13.114991\n",
      "                            min         17.000000\n",
      "                            25%         27.000000\n",
      "                            50%         36.000000\n",
      "                            75%         46.000000\n",
      "                            max         80.000000\n",
      "                    Male    count      192.000000\n",
      "                            mean        37.208333\n",
      "                            std         12.049563\n",
      "                            min         17.000000\n",
      "                            25%         28.000000\n",
      "                            50%         35.000000\n",
      "                            75%         45.000000\n",
      "                            max         82.000000\n",
      "Asian-Pac-Islander  Female  count      346.000000\n",
      "                            mean        35.089595\n",
      "                            std         12.300845\n",
      "                            min         17.000000\n",
      "                            25%         25.000000\n",
      "                            50%         33.000000\n",
      "                            75%         43.750000\n",
      "                            max         75.000000\n",
      "                    Male    count      693.000000\n",
      "                            mean        39.073593\n",
      "                            std         12.883944\n",
      "                            min         18.000000\n",
      "                            25%         29.000000\n",
      "                            50%         37.000000\n",
      "                                         ...     \n",
      "Other               Female  std         11.631599\n",
      "                            min         17.000000\n",
      "                            25%         23.000000\n",
      "                            50%         29.000000\n",
      "                            75%         39.000000\n",
      "                            max         74.000000\n",
      "                    Male    count      162.000000\n",
      "                            mean        34.654321\n",
      "                            std         11.355531\n",
      "                            min         17.000000\n",
      "                            25%         26.000000\n",
      "                            50%         32.000000\n",
      "                            75%         42.000000\n",
      "                            max         77.000000\n",
      "White               Female  count     8642.000000\n",
      "                            mean        36.811618\n",
      "                            std         14.329093\n",
      "                            min         17.000000\n",
      "                            25%         25.000000\n",
      "                            50%         35.000000\n",
      "                            75%         46.000000\n",
      "                            max         90.000000\n",
      "                    Male    count    19174.000000\n",
      "                            mean        39.652498\n",
      "                            std         13.436029\n",
      "                            min         17.000000\n",
      "                            25%         29.000000\n",
      "                            50%         38.000000\n",
      "                            75%         49.000000\n",
      "                            max         90.000000\n",
      "dtype: float64 \n",
      "max age of male Amer-indian-eskimo race: 82\n"
     ]
    }
   ],
   "source": [
    "d = data.groupby(['race','sex'])['age'].describe()\n",
    "maxAge = data[data['race'] == 'Amer-Indian-Eskimo']['age'].max()\n",
    "print(\"\",d,\"\\nmax age of male Amer-indian-eskimo race:\", maxAge)\n",
    "\n"
   ]
  },
  {
   "cell_type": "markdown",
   "metadata": {},
   "source": [
    "**8. Среди кого больше доля зарабатывающих много (>50K): среди женатых или холостых мужчин (признак *marital-status*)? Женатыми считаем тех, у кого *marital-status* начинается с *Married* (Married-civ-spouse, Married-spouse-absent или Married-AF-spouse), остальных считаем холостыми.**"
   ]
  },
  {
   "cell_type": "code",
   "execution_count": 9,
   "metadata": {
    "collapsed": false
   },
   "outputs": [
    {
     "name": "stdout",
     "output_type": "stream",
     "text": [
      "count of married:  325 \n",
      "count of unmarried:  6337\n",
      "count of unmarried men more then married!\n"
     ]
    }
   ],
   "source": [
    "rich = data[data['salary'] == '>50K']['sex'].count()\n",
    "mar = data[(data['salary'] == '>50K') & (data['sex'] == 'Male') & (data['marital-status'].str.find('married') > 0)]['sex'].count()\n",
    "unmar = data[(data['salary'] == '>50K') & (data['sex'] == 'Male') & (data['marital-status'].str.find('married') < 0)]['sex'].count()\n",
    "print(\"count of married: \", mar,\"\\ncount of unmarried: \", unmar)\n",
    "if mar > unmar:\n",
    "    print(\"count of married men more then unmarried!\")\n",
    "else:\n",
    "    print(\"count of unmarried men more then married!\")"
   ]
  },
  {
   "cell_type": "markdown",
   "metadata": {},
   "source": [
    "**9. Какое максимальное число часов человек работает в неделю (признак *hours-per-week*)? Сколько людей работают такое количество часов и каков среди них процент зарабатывающих много?**"
   ]
  },
  {
   "cell_type": "code",
   "execution_count": 72,
   "metadata": {
    "collapsed": false
   },
   "outputs": [
    {
     "name": "stdout",
     "output_type": "stream",
     "text": [
      "max hors per week: 99 \n",
      "count of person working max hours: 85 \n",
      "percent of rich people: 29.41\n"
     ]
    }
   ],
   "source": [
    "maxHours = data['hours-per-week'].max()\n",
    "countOfPeople = data[data['hours-per-week'] == maxHours]['sex'].count()\n",
    "percentOfPeople = data[(data['hours-per-week'] == maxHours) & (data['salary'] == '>50K')]['sex'].count()*100/countOfPeople\n",
    "percentOfPeople = round(percentOfPeople,2)\n",
    "print(\"max hors per week:\",maxHours,\n",
    "      \"\\ncount of person working max hours:\", countOfPeople, \n",
    "      \"\\npercent of rich people:\", percentOfPeople)"
   ]
  },
  {
   "cell_type": "markdown",
   "metadata": {},
   "source": [
    "**10. Посчитайте среднее время работы (*hours-per-week*) зарабатывающих мало и много (*salary*) для каждой страны (*native-country*).**"
   ]
  },
  {
   "cell_type": "code",
   "execution_count": 89,
   "metadata": {
    "collapsed": false
   },
   "outputs": [
    {
     "data": {
      "text/plain": [
       "native-country              salary\n",
       "?                           <=50K     40.16\n",
       "                            >50K      45.55\n",
       "Cambodia                    <=50K     41.42\n",
       "                            >50K      40.00\n",
       "Canada                      <=50K     37.91\n",
       "                            >50K      45.64\n",
       "China                       <=50K     37.38\n",
       "                            >50K      38.90\n",
       "Columbia                    <=50K     38.68\n",
       "                            >50K      50.00\n",
       "Cuba                        <=50K     37.99\n",
       "                            >50K      42.44\n",
       "Dominican-Republic          <=50K     42.34\n",
       "                            >50K      47.00\n",
       "Ecuador                     <=50K     38.04\n",
       "                            >50K      48.75\n",
       "El-Salvador                 <=50K     36.03\n",
       "                            >50K      45.00\n",
       "England                     <=50K     40.48\n",
       "                            >50K      44.53\n",
       "France                      <=50K     41.06\n",
       "                            >50K      50.75\n",
       "Germany                     <=50K     39.14\n",
       "                            >50K      44.98\n",
       "Greece                      <=50K     41.81\n",
       "                            >50K      50.62\n",
       "Guatemala                   <=50K     39.36\n",
       "                            >50K      36.67\n",
       "Haiti                       <=50K     36.33\n",
       "                            >50K      42.75\n",
       "                                      ...  \n",
       "Mexico                      >50K      46.58\n",
       "Nicaragua                   <=50K     36.09\n",
       "                            >50K      37.50\n",
       "Outlying-US(Guam-USVI-etc)  <=50K     41.86\n",
       "Peru                        <=50K     35.07\n",
       "                            >50K      40.00\n",
       "Philippines                 <=50K     38.07\n",
       "                            >50K      43.03\n",
       "Poland                      <=50K     38.17\n",
       "                            >50K      39.00\n",
       "Portugal                    <=50K     41.94\n",
       "                            >50K      41.50\n",
       "Puerto-Rico                 <=50K     38.47\n",
       "                            >50K      39.42\n",
       "Scotland                    <=50K     39.44\n",
       "                            >50K      46.67\n",
       "South                       <=50K     40.16\n",
       "                            >50K      51.44\n",
       "Taiwan                      <=50K     33.77\n",
       "                            >50K      46.80\n",
       "Thailand                    <=50K     42.87\n",
       "                            >50K      58.33\n",
       "Trinadad&Tobago             <=50K     37.06\n",
       "                            >50K      40.00\n",
       "United-States               <=50K     38.80\n",
       "                            >50K      45.51\n",
       "Vietnam                     <=50K     37.19\n",
       "                            >50K      39.20\n",
       "Yugoslavia                  <=50K     41.60\n",
       "                            >50K      49.50\n",
       "Name: hours-per-week, dtype: float64"
      ]
     },
     "execution_count": 89,
     "metadata": {},
     "output_type": "execute_result"
    }
   ],
   "source": [
    "round(data.groupby(['native-country','salary'])['hours-per-week'].mean(),2)"
   ]
  },
  {
   "cell_type": "code",
   "execution_count": null,
   "metadata": {
    "collapsed": true
   },
   "outputs": [],
   "source": []
  }
 ],
 "metadata": {
  "anaconda-cloud": {},
  "kernelspec": {
   "display_name": "Python 3",
   "language": "python",
   "name": "python3"
  },
  "language_info": {
   "codemirror_mode": {
    "name": "ipython",
    "version": 3
   },
   "file_extension": ".py",
   "mimetype": "text/x-python",
   "name": "python",
   "nbconvert_exporter": "python",
   "pygments_lexer": "ipython3",
   "version": "3.5.1"
  }
 },
 "nbformat": 4,
 "nbformat_minor": 1
}
