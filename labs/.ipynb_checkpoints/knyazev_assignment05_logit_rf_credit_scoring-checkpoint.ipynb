{
 "cells": [
  {
   "cell_type": "markdown",
   "metadata": {},
   "source": [
    "<center>\n",
    "<img src=\"../../img/ods_stickers.jpg\">\n",
    "## Открытый курс по машинному обучению\n",
    "<center>\n",
    "Автор материала: Виталий Радченко, Data scientist @ YouScan (@vradchenko в Slack ODS)  <br> \n",
    "\n",
    "Материал распространяется на условиях лицензии [Creative Commons CC BY-NC-SA 4.0](https://creativecommons.org/licenses/by-nc-sa/4.0/). Можно использовать в любых целях (редактировать, поправлять и брать за основу), кроме коммерческих, но с обязательным упоминанием автора материала"
   ]
  },
  {
   "cell_type": "markdown",
   "metadata": {},
   "source": [
    "# <center> Домашнее задание № 5 (Демо).\n",
    "## <center> Логистическая регрессия и случайный лес в задаче кредитного скоринга"
   ]
  },
  {
   "cell_type": "markdown",
   "metadata": {},
   "source": [
    "[Веб-форма](https://docs.google.com/forms/d/1HASy2b_FLBHBCzzpG-TbnbB6gqhB-qwznQxU2vaoSgc/) для ответов.\n",
    "\n",
    "#### Нашей главной задачей будет построение модели для задачи кредитного скоринга.\n",
    "\n",
    "Но для разминки решите первое задание :)\n",
    "\n",
    "**Задание 1.** В зале суда есть 5 присяжных, каждый из них по отдельности с вероятностью 70% может правильно определить, виновен подсудимый или нет. С какой вероятностью они все вместе вынесут правильный вердикт, если решение принимается большинством голосов?\n",
    "- 70.00%\n",
    "- 83.20%\n",
    "- 83.70%\n",
    "- 87.50%\n",
    "### Ответ: 83.7\n",
    "\n",
    "Теперь перейдем непосредственно к машинному обучению.\n",
    "\n",
    "#### Данные представлены следующим образом:\n",
    "\n",
    "##### Прогнозируемая  переменная\n",
    "* SeriousDlqin2yrs\t      – Человек не выплатил данный кредит в течение 90 дней; возможные значения  1/0 \n",
    "\n",
    "##### Независимые признаки\n",
    "* age\t                          –  Возраст заёмщика кредитных средств; тип - integer\n",
    "* NumberOfTime30-59DaysPastDueNotWorse\t – Количество раз, когда человек имел просрочку выплаты других кредитов более 30-59 дней, но не больше в течение последних двух лет; тип -\tinteger\n",
    "* DebtRatio  – \tЕжемесячный отчисления на задолжености(кредиты,алименты и т.д.)  / совокупный месячный доход \tpercentage; тип -\treal\n",
    "* MonthlyIncome\t – Месячный доход в долларах; тип -\treal\n",
    "* NumberOfTimes90DaysLate  – Количество раз, когда человек имел просрочку выплаты других кредитов более 90 дней; тип -\tinteger\n",
    "* NumberOfTime60-89DaysPastDueNotWorse – \tКоличество раз, когда человек имел просрочку выплаты других кредитов более 60-89 дней, но не больше в течение последних двух лет; тип -\tinteger\n",
    "* NumberOfDependents  – Число человек в семье кредитозаёмщика; тип -\tinteger"
   ]
  },
  {
   "cell_type": "code",
   "execution_count": 1,
   "metadata": {
    "collapsed": true
   },
   "outputs": [],
   "source": [
    "%matplotlib inline\n",
    "import matplotlib.pyplot as plt\n",
    "import seaborn as sns\n",
    "# отключим предупреждения Anaconda\n",
    "import warnings\n",
    "warnings.filterwarnings('ignore')\n",
    "import pandas as pd\n",
    "import numpy as np"
   ]
  },
  {
   "cell_type": "code",
   "execution_count": 2,
   "metadata": {
    "collapsed": true
   },
   "outputs": [],
   "source": [
    "## Сделаем функцию, которая будет заменять NaN значения на медиану в каждом столбце таблицы \n",
    "def delete_nan(table):\n",
    "    for col in table.columns:\n",
    "        table[col]= table[col].fillna(table[col].median())\n",
    "    return table   "
   ]
  },
  {
   "cell_type": "code",
   "execution_count": 3,
   "metadata": {},
   "outputs": [
    {
     "data": {
      "text/html": [
       "<div>\n",
       "<table border=\"1\" class=\"dataframe\">\n",
       "  <thead>\n",
       "    <tr style=\"text-align: right;\">\n",
       "      <th></th>\n",
       "      <th>SeriousDlqin2yrs</th>\n",
       "      <th>age</th>\n",
       "      <th>NumberOfTime30-59DaysPastDueNotWorse</th>\n",
       "      <th>DebtRatio</th>\n",
       "      <th>NumberOfTimes90DaysLate</th>\n",
       "      <th>NumberOfTime60-89DaysPastDueNotWorse</th>\n",
       "      <th>MonthlyIncome</th>\n",
       "      <th>NumberOfDependents</th>\n",
       "    </tr>\n",
       "  </thead>\n",
       "  <tbody>\n",
       "    <tr>\n",
       "      <th>0</th>\n",
       "      <td>0</td>\n",
       "      <td>64</td>\n",
       "      <td>0</td>\n",
       "      <td>0.249908</td>\n",
       "      <td>0</td>\n",
       "      <td>0</td>\n",
       "      <td>8158.0</td>\n",
       "      <td>0.0</td>\n",
       "    </tr>\n",
       "    <tr>\n",
       "      <th>1</th>\n",
       "      <td>0</td>\n",
       "      <td>58</td>\n",
       "      <td>0</td>\n",
       "      <td>3870.000000</td>\n",
       "      <td>0</td>\n",
       "      <td>0</td>\n",
       "      <td>NaN</td>\n",
       "      <td>0.0</td>\n",
       "    </tr>\n",
       "    <tr>\n",
       "      <th>2</th>\n",
       "      <td>0</td>\n",
       "      <td>41</td>\n",
       "      <td>0</td>\n",
       "      <td>0.456127</td>\n",
       "      <td>0</td>\n",
       "      <td>0</td>\n",
       "      <td>6666.0</td>\n",
       "      <td>0.0</td>\n",
       "    </tr>\n",
       "    <tr>\n",
       "      <th>3</th>\n",
       "      <td>0</td>\n",
       "      <td>43</td>\n",
       "      <td>0</td>\n",
       "      <td>0.000190</td>\n",
       "      <td>0</td>\n",
       "      <td>0</td>\n",
       "      <td>10500.0</td>\n",
       "      <td>2.0</td>\n",
       "    </tr>\n",
       "    <tr>\n",
       "      <th>4</th>\n",
       "      <td>1</td>\n",
       "      <td>49</td>\n",
       "      <td>0</td>\n",
       "      <td>0.271820</td>\n",
       "      <td>0</td>\n",
       "      <td>0</td>\n",
       "      <td>400.0</td>\n",
       "      <td>0.0</td>\n",
       "    </tr>\n",
       "    <tr>\n",
       "      <th>5</th>\n",
       "      <td>0</td>\n",
       "      <td>55</td>\n",
       "      <td>0</td>\n",
       "      <td>0.324678</td>\n",
       "      <td>0</td>\n",
       "      <td>0</td>\n",
       "      <td>8934.0</td>\n",
       "      <td>0.0</td>\n",
       "    </tr>\n",
       "    <tr>\n",
       "      <th>6</th>\n",
       "      <td>0</td>\n",
       "      <td>25</td>\n",
       "      <td>0</td>\n",
       "      <td>0.473421</td>\n",
       "      <td>0</td>\n",
       "      <td>0</td>\n",
       "      <td>2200.0</td>\n",
       "      <td>0.0</td>\n",
       "    </tr>\n",
       "    <tr>\n",
       "      <th>7</th>\n",
       "      <td>1</td>\n",
       "      <td>31</td>\n",
       "      <td>0</td>\n",
       "      <td>0.017415</td>\n",
       "      <td>0</td>\n",
       "      <td>0</td>\n",
       "      <td>4076.0</td>\n",
       "      <td>0.0</td>\n",
       "    </tr>\n",
       "    <tr>\n",
       "      <th>8</th>\n",
       "      <td>1</td>\n",
       "      <td>37</td>\n",
       "      <td>2</td>\n",
       "      <td>0.233710</td>\n",
       "      <td>0</td>\n",
       "      <td>0</td>\n",
       "      <td>7166.0</td>\n",
       "      <td>0.0</td>\n",
       "    </tr>\n",
       "    <tr>\n",
       "      <th>9</th>\n",
       "      <td>0</td>\n",
       "      <td>55</td>\n",
       "      <td>0</td>\n",
       "      <td>0.420954</td>\n",
       "      <td>0</td>\n",
       "      <td>0</td>\n",
       "      <td>3750.0</td>\n",
       "      <td>0.0</td>\n",
       "    </tr>\n",
       "    <tr>\n",
       "      <th>10</th>\n",
       "      <td>1</td>\n",
       "      <td>53</td>\n",
       "      <td>10</td>\n",
       "      <td>0.331620</td>\n",
       "      <td>3</td>\n",
       "      <td>1</td>\n",
       "      <td>3500.0</td>\n",
       "      <td>0.0</td>\n",
       "    </tr>\n",
       "    <tr>\n",
       "      <th>11</th>\n",
       "      <td>0</td>\n",
       "      <td>57</td>\n",
       "      <td>0</td>\n",
       "      <td>0.337166</td>\n",
       "      <td>0</td>\n",
       "      <td>0</td>\n",
       "      <td>16000.0</td>\n",
       "      <td>0.0</td>\n",
       "    </tr>\n",
       "    <tr>\n",
       "      <th>12</th>\n",
       "      <td>1</td>\n",
       "      <td>39</td>\n",
       "      <td>8</td>\n",
       "      <td>0.961171</td>\n",
       "      <td>0</td>\n",
       "      <td>1</td>\n",
       "      <td>9116.0</td>\n",
       "      <td>1.0</td>\n",
       "    </tr>\n",
       "    <tr>\n",
       "      <th>13</th>\n",
       "      <td>0</td>\n",
       "      <td>61</td>\n",
       "      <td>0</td>\n",
       "      <td>0.549059</td>\n",
       "      <td>0</td>\n",
       "      <td>0</td>\n",
       "      <td>5900.0</td>\n",
       "      <td>1.0</td>\n",
       "    </tr>\n",
       "    <tr>\n",
       "      <th>14</th>\n",
       "      <td>0</td>\n",
       "      <td>78</td>\n",
       "      <td>0</td>\n",
       "      <td>888.000000</td>\n",
       "      <td>0</td>\n",
       "      <td>0</td>\n",
       "      <td>NaN</td>\n",
       "      <td>0.0</td>\n",
       "    </tr>\n",
       "    <tr>\n",
       "      <th>15</th>\n",
       "      <td>0</td>\n",
       "      <td>58</td>\n",
       "      <td>0</td>\n",
       "      <td>1328.000000</td>\n",
       "      <td>0</td>\n",
       "      <td>0</td>\n",
       "      <td>NaN</td>\n",
       "      <td>2.0</td>\n",
       "    </tr>\n",
       "    <tr>\n",
       "      <th>16</th>\n",
       "      <td>0</td>\n",
       "      <td>30</td>\n",
       "      <td>0</td>\n",
       "      <td>0.417556</td>\n",
       "      <td>0</td>\n",
       "      <td>0</td>\n",
       "      <td>2904.0</td>\n",
       "      <td>0.0</td>\n",
       "    </tr>\n",
       "    <tr>\n",
       "      <th>17</th>\n",
       "      <td>0</td>\n",
       "      <td>27</td>\n",
       "      <td>0</td>\n",
       "      <td>10.000000</td>\n",
       "      <td>0</td>\n",
       "      <td>0</td>\n",
       "      <td>NaN</td>\n",
       "      <td>NaN</td>\n",
       "    </tr>\n",
       "    <tr>\n",
       "      <th>18</th>\n",
       "      <td>0</td>\n",
       "      <td>60</td>\n",
       "      <td>0</td>\n",
       "      <td>0.386186</td>\n",
       "      <td>0</td>\n",
       "      <td>0</td>\n",
       "      <td>9106.0</td>\n",
       "      <td>1.0</td>\n",
       "    </tr>\n",
       "    <tr>\n",
       "      <th>19</th>\n",
       "      <td>0</td>\n",
       "      <td>26</td>\n",
       "      <td>0</td>\n",
       "      <td>0.073220</td>\n",
       "      <td>0</td>\n",
       "      <td>1</td>\n",
       "      <td>6500.0</td>\n",
       "      <td>0.0</td>\n",
       "    </tr>\n",
       "  </tbody>\n",
       "</table>\n",
       "</div>"
      ],
      "text/plain": [
       "    SeriousDlqin2yrs  age  NumberOfTime30-59DaysPastDueNotWorse    DebtRatio  \\\n",
       "0                  0   64                                     0     0.249908   \n",
       "1                  0   58                                     0  3870.000000   \n",
       "2                  0   41                                     0     0.456127   \n",
       "3                  0   43                                     0     0.000190   \n",
       "4                  1   49                                     0     0.271820   \n",
       "5                  0   55                                     0     0.324678   \n",
       "6                  0   25                                     0     0.473421   \n",
       "7                  1   31                                     0     0.017415   \n",
       "8                  1   37                                     2     0.233710   \n",
       "9                  0   55                                     0     0.420954   \n",
       "10                 1   53                                    10     0.331620   \n",
       "11                 0   57                                     0     0.337166   \n",
       "12                 1   39                                     8     0.961171   \n",
       "13                 0   61                                     0     0.549059   \n",
       "14                 0   78                                     0   888.000000   \n",
       "15                 0   58                                     0  1328.000000   \n",
       "16                 0   30                                     0     0.417556   \n",
       "17                 0   27                                     0    10.000000   \n",
       "18                 0   60                                     0     0.386186   \n",
       "19                 0   26                                     0     0.073220   \n",
       "\n",
       "    NumberOfTimes90DaysLate  NumberOfTime60-89DaysPastDueNotWorse  \\\n",
       "0                         0                                     0   \n",
       "1                         0                                     0   \n",
       "2                         0                                     0   \n",
       "3                         0                                     0   \n",
       "4                         0                                     0   \n",
       "5                         0                                     0   \n",
       "6                         0                                     0   \n",
       "7                         0                                     0   \n",
       "8                         0                                     0   \n",
       "9                         0                                     0   \n",
       "10                        3                                     1   \n",
       "11                        0                                     0   \n",
       "12                        0                                     1   \n",
       "13                        0                                     0   \n",
       "14                        0                                     0   \n",
       "15                        0                                     0   \n",
       "16                        0                                     0   \n",
       "17                        0                                     0   \n",
       "18                        0                                     0   \n",
       "19                        0                                     1   \n",
       "\n",
       "    MonthlyIncome  NumberOfDependents  \n",
       "0          8158.0                 0.0  \n",
       "1             NaN                 0.0  \n",
       "2          6666.0                 0.0  \n",
       "3         10500.0                 2.0  \n",
       "4           400.0                 0.0  \n",
       "5          8934.0                 0.0  \n",
       "6          2200.0                 0.0  \n",
       "7          4076.0                 0.0  \n",
       "8          7166.0                 0.0  \n",
       "9          3750.0                 0.0  \n",
       "10         3500.0                 0.0  \n",
       "11        16000.0                 0.0  \n",
       "12         9116.0                 1.0  \n",
       "13         5900.0                 1.0  \n",
       "14            NaN                 0.0  \n",
       "15            NaN                 2.0  \n",
       "16         2904.0                 0.0  \n",
       "17            NaN                 NaN  \n",
       "18         9106.0                 1.0  \n",
       "19         6500.0                 0.0  "
      ]
     },
     "execution_count": 3,
     "metadata": {},
     "output_type": "execute_result"
    }
   ],
   "source": [
    "## Считываем данные\n",
    "data = pd.read_csv('../data/credit_scoring_sample.csv', sep =';')\n",
    "data.head(20)"
   ]
  },
  {
   "cell_type": "code",
   "execution_count": 4,
   "metadata": {},
   "outputs": [
    {
     "data": {
      "text/plain": [
       "SeriousDlqin2yrs                          int64\n",
       "age                                       int64\n",
       "NumberOfTime30-59DaysPastDueNotWorse      int64\n",
       "DebtRatio                               float64\n",
       "NumberOfTimes90DaysLate                   int64\n",
       "NumberOfTime60-89DaysPastDueNotWorse      int64\n",
       "MonthlyIncome                           float64\n",
       "NumberOfDependents                      float64\n",
       "dtype: object"
      ]
     },
     "execution_count": 4,
     "metadata": {},
     "output_type": "execute_result"
    }
   ],
   "source": [
    "## Рассмотрим типы считанных данных\n",
    "data.dtypes"
   ]
  },
  {
   "cell_type": "code",
   "execution_count": 5,
   "metadata": {},
   "outputs": [
    {
     "name": "stdout",
     "output_type": "stream",
     "text": [
      "Distribution of target\n"
     ]
    },
    {
     "data": {
      "text/plain": [
       "0    0.777511\n",
       "1    0.222489\n",
       "Name: SeriousDlqin2yrs, dtype: float64"
      ]
     },
     "execution_count": 5,
     "metadata": {},
     "output_type": "execute_result"
    },
    {
     "data": {
      "image/png": "[encoded data removed]",
      "text/plain": [
       "<matplotlib.figure.Figure at 0xb005668>"
      ]
     },
     "metadata": {},
     "output_type": "display_data"
    }
   ],
   "source": [
    "## Посмотрим на распределение классов в зависимой переменной\n",
    "\n",
    "ax =data['SeriousDlqin2yrs'].hist(orientation='horizontal', color='red')\n",
    "ax.set_xlabel(\"number_of_observations\")\n",
    "ax.set_ylabel(\"unique_value\")\n",
    "ax.set_title(\"Target distribution\")\n",
    "\n",
    "print('Distribution of target')\n",
    "data['SeriousDlqin2yrs'].value_counts()/data.shape[0]"
   ]
  },
  {
   "cell_type": "code",
   "execution_count": 6,
   "metadata": {},
   "outputs": [
    {
     "data": {
      "text/plain": [
       "['age',\n",
       " 'NumberOfTime30-59DaysPastDueNotWorse',\n",
       " 'DebtRatio',\n",
       " 'NumberOfTimes90DaysLate',\n",
       " 'NumberOfTime60-89DaysPastDueNotWorse',\n",
       " 'MonthlyIncome',\n",
       " 'NumberOfDependents']"
      ]
     },
     "execution_count": 6,
     "metadata": {},
     "output_type": "execute_result"
    }
   ],
   "source": [
    "## Выберем названия всех признаков из таблицы, кроме прогнозируемого\n",
    "\n",
    "independent_columns_names = data.columns.values\n",
    "independent_columns_names = [x for x in data if x != 'SeriousDlqin2yrs']\n",
    "independent_columns_names\n"
   ]
  },
  {
   "cell_type": "code",
   "execution_count": 7,
   "metadata": {
    "collapsed": true
   },
   "outputs": [],
   "source": [
    "## Применяем функцию, заменяющую все NaN значения на медианное значение соответствующего столбца\n",
    "table =delete_nan(data)\n"
   ]
  },
  {
   "cell_type": "code",
   "execution_count": 8,
   "metadata": {
    "collapsed": true
   },
   "outputs": [],
   "source": [
    "## Разделяем таргет и признаки \n",
    "X =table[independent_columns_names]\n",
    "y = table['SeriousDlqin2yrs']\n"
   ]
  },
  {
   "cell_type": "markdown",
   "metadata": {},
   "source": [
    "# Бутстрэп"
   ]
  },
  {
   "cell_type": "markdown",
   "metadata": {},
   "source": [
    "**Задание 2.** Сделайте интервальную оценку среднего возраста (age) для клиентов, которые просрочили выплату кредита, с 90% \"уверенностью\". Используйте пример из статьи, поставьте `np.random.seed(0)`, как это сделано в статье."
   ]
  },
  {
   "cell_type": "code",
   "execution_count": 20,
   "metadata": {},
   "outputs": [
    {
     "ename": "SyntaxError",
     "evalue": "invalid syntax (<ipython-input-20-317b1a9ec1f2>, line 15)",
     "output_type": "error",
     "traceback": [
      "\u001b[1;36m  File \u001b[1;32m\"<ipython-input-20-317b1a9ec1f2>\"\u001b[1;36m, line \u001b[1;32m15\u001b[0m\n\u001b[1;33m    np.random.seed(0)\u001b[0m\n\u001b[1;37m     ^\u001b[0m\n\u001b[1;31mSyntaxError\u001b[0m\u001b[1;31m:\u001b[0m invalid syntax\n"
     ]
    }
   ],
   "source": [
    "def get_bootstrap_samples(data, n_samples):\n",
    "    # функция для генерации подвыборок с помощью бутстрэпа\n",
    "    indices = np.random.randint(0, len(data), (n_samples, len(data)))\n",
    "    samples = data[indices]\n",
    "    return samples\n",
    "def stat_intervals(stat, alpha):\n",
    "    # функция для интервальной оценки\n",
    "    boundaries = np.percentile(stat, [100 * alpha / 2., 100 * (1 - alpha / 2.)])\n",
    "    return boundaries\n",
    "\n",
    "# сохранение в отдельные numpy массивы данных по лояльным и уже бывшим клиентам\n",
    "clients = table[table['SeriousDlqin2yrs']['age'].values\n",
    "\n",
    "# ставим seed для воспроизводимости результатов\n",
    "np.random.seed(0)\n",
    "\n",
    "# генерируем выборки с помощью бутстрэра и сразу считаем по каждой из них среднее\n",
    "cleints_mean_scores = [np.mean(sample) \n",
    "                       for sample in get_bootstrap_samples(clients, 1000)]\n",
    "#  выводим интервальную оценку среднего\n",
    "print(\"mean age\",  stat_intervals(clients_mean_scores, 0.1))### Ваш код должен быть здесь ###"
   ]
  },
  {
   "cell_type": "markdown",
   "metadata": {},
   "source": [
    "## Подбор параметров для модели логистической регрессии "
   ]
  },
  {
   "cell_type": "markdown",
   "metadata": {},
   "source": [
    "#### Одной из важных метрик качества модели является значение площади под ROC-кривой. Значение ROC-AUC лежит от 0  до 1.   Чем ближе начение метрики ROC-AUC к 1, тем качественнее происходит классификация моделью."
   ]
  },
  {
   "cell_type": "code",
   "execution_count": 12,
   "metadata": {
    "collapsed": true
   },
   "outputs": [],
   "source": [
    "from sklearn.linear_model import LogisticRegression\n",
    "from sklearn.model_selection import GridSearchCV, StratifiedKFold\n",
    "\n",
    "## Используем модуль LogisticRegression для построения логистической регрессии.\n",
    "## Из-за несбалансированности классов  в таргете добавляем параметр балансировки.\n",
    "## Используем также параметр random_state=5 для воспроизводимости результатов\n",
    "lr = LogisticRegression(random_state=5, class_weight= 'balanced')\n",
    "\n",
    "## Попробуем подобрать лучший коэффициент регуляризации (коэффициент C в логистической регрессии) для модели лог.регрессии.\n",
    "## Этот параметр необходим для того, чтобы подобрать оптимальную модель, которая не будет переобучена, с одной стороны, \n",
    "## и будет хорошо предсказывать значения таргета, с другой.\n",
    "## Остальные параметры оставляем по умолчанию.\n",
    "parameters = {'C': (0.0001, 0.001, 0.01, 0.1, 1, 10)}\n",
    "\n",
    "## Для того, чтобы подобрать коэффициент регуляризации, попробуем для каждого его возможного значения посмотреть \n",
    "## значения roc-auc на стрэтифайд кросс-валидации из 5 фолдов с помощью функции StratifiedKFold\n",
    "\n",
    "skf = StratifiedKFold(n_splits=5, shuffle=True, random_state=5)"
   ]
  },
  {
   "cell_type": "markdown",
   "metadata": {},
   "source": [
    "**Задание 3.**\n",
    "Сделайте GridSearch с метрикой \"roc-auc\" по параметру C. Какое оптимальное значение параметра С?"
   ]
  },
  {
   "cell_type": "code",
   "execution_count": null,
   "metadata": {
    "collapsed": true
   },
   "outputs": [],
   "source": [
    "### Ваш код должен быть здесь ###\n",
    "%%time\n",
    "CV = GridSearchCV(lr, parameters, n_jobs=-1, cv=skf, verbose=1, scoring='roc_auc')\n",
    "##CV.fit()\n",
    "##print(\"C\", CV.best_params_['C'])"
   ]
  },
  {
   "cell_type": "markdown",
   "metadata": {},
   "source": [
    "**Задание 4.** \n",
    "Можно ли считать лучшую модель устойчивой? (модель считаем устойчивой, если стандартное отклонение на валидации меньше 0.5%) Сохраните точность лучшей модели, она вам приходится для следующих заданий"
   ]
  },
  {
   "cell_type": "code",
   "execution_count": 12,
   "metadata": {
    "collapsed": true,
    "scrolled": true
   },
   "outputs": [],
   "source": [
    "### Ваш код должен быть здесь ###"
   ]
  },
  {
   "cell_type": "markdown",
   "metadata": {},
   "source": [
    "## Определение влияния признаков"
   ]
  },
  {
   "cell_type": "markdown",
   "metadata": {},
   "source": [
    "**Задание 5.**\n",
    "Определите самый важный признак. Важность признака определяется абсолютным значением его коэффициента. Так же нужно нормализировать все признаки, что бы можно их было корректно сравнить."
   ]
  },
  {
   "cell_type": "code",
   "execution_count": 13,
   "metadata": {
    "collapsed": true
   },
   "outputs": [],
   "source": [
    "### Ваш код должен быть здесь ###"
   ]
  },
  {
   "cell_type": "markdown",
   "metadata": {},
   "source": [
    "**Задание 6.** Посчитайте долю влияния DebtRatio на предсказание. (Воспользуйтесь функцией [softmax](https://en.wikipedia.org/wiki/Softmax_function))"
   ]
  },
  {
   "cell_type": "code",
   "execution_count": 14,
   "metadata": {
    "collapsed": true
   },
   "outputs": [],
   "source": [
    "### Ваш код должен быть здесь ###"
   ]
  },
  {
   "cell_type": "markdown",
   "metadata": {},
   "source": [
    "**Задание 7.** \n",
    "Давайте посмотрим как можно интерпретировать влияние наших признаков. Для этого заного оценим логистическую регрессию в абсолютных величинах. После этого посчитайте во сколько раз увеличатся шансы, что клиент не выплатит кредит, если увеличить возраст на 20 лет при всех остальных равных значениях признаков. (теоретический расчет можно посмотреть [здесь](https://www.unm.edu/~schrader/biostat/bio2/Spr06/lec11.pdf))"
   ]
  },
  {
   "cell_type": "code",
   "execution_count": 15,
   "metadata": {
    "collapsed": true
   },
   "outputs": [],
   "source": [
    "### Ваш код должен быть здесь ###"
   ]
  },
  {
   "cell_type": "markdown",
   "metadata": {},
   "source": [
    "# Случайный лес"
   ]
  },
  {
   "cell_type": "code",
   "execution_count": 15,
   "metadata": {
    "collapsed": true
   },
   "outputs": [],
   "source": [
    "from sklearn.ensemble import RandomForestClassifier\n",
    "\n",
    "# Инициализируем случайный лес с 100 деревьями и сбалансированными классами \n",
    "rf = RandomForestClassifier(n_estimators=100, n_jobs=-1, \n",
    "                            random_state=42, oob_score=True, \n",
    "                            class_weight='balanced')\n",
    "\n",
    "## Будем искать лучшие параметры среди следующего набора\n",
    "parameters = {'max_features': [1, 2, 4], \n",
    "              'min_samples_leaf': [3, 5, 7, 9], \n",
    "              'max_depth': [5,10,15]}\n",
    "\n",
    "## Делаем опять же стрэтифайд k-fold валидацию. Инициализация которой должна у вас продолжать храниться в skf"
   ]
  },
  {
   "cell_type": "markdown",
   "metadata": {},
   "source": [
    "**Задание 8.** На сколько точность лучшей модели случайного леса выше точности логистической регрессии на валидации?"
   ]
  },
  {
   "cell_type": "code",
   "execution_count": null,
   "metadata": {
    "collapsed": true
   },
   "outputs": [],
   "source": [
    "%%time\n",
    "CV_new = GridSearchCV(rf, parameters, cv=skf, n_jobs=-1, scoring='roc_auc')### Ваш код должен быть здесь ###\n",
    "CV_new.fit(X,y)"
   ]
  },
  {
   "cell_type": "markdown",
   "metadata": {},
   "source": [
    "**Задание 9.** Определите какой признак имеет самое слабое влияние."
   ]
  },
  {
   "cell_type": "code",
   "execution_count": 18,
   "metadata": {
    "collapsed": true
   },
   "outputs": [],
   "source": [
    "### Ваш код должен быть здесь ###"
   ]
  },
  {
   "cell_type": "markdown",
   "metadata": {},
   "source": [
    "** Задание 10.** Какое наиболее существенное примущество логистической регрессии перед случайным лесом для нашей бизнес-задачи?\n",
    "\n",
    "- меньше тратится времени для тренировки модели;\n",
    "- меньше параметров для перебора;\n",
    "- интепретируемость признаков;\n",
    "- линейные свойства алгоритма."
   ]
  },
  {
   "cell_type": "markdown",
   "metadata": {},
   "source": [
    "# Бэггинг"
   ]
  },
  {
   "cell_type": "code",
   "execution_count": 10,
   "metadata": {
    "collapsed": true
   },
   "outputs": [],
   "source": [
    "from sklearn.ensemble import BaggingClassifier\n",
    "from sklearn.model_selection import RandomizedSearchCV\n",
    "parameters = {'max_features': [2, 3, 4], 'max_samples': [0.5, 0.7, 0.9], \n",
    "              \"base_estimator__C\": [0.0001, 0.001, 0.01, 1, 10, 100]}"
   ]
  },
  {
   "cell_type": "markdown",
   "metadata": {},
   "source": [
    "**Задание 11.** Следующая задача обучить бэггинг классификатор (`random_state`=42). В качестве базовых классификаторов возьмите 100 логистических регрессий и на этот раз используйте не `GridSearchCV`, а `RandomizedSearchCV`. Так как перебирать все 54 варианта комбинаций долго, то поставьте максимальное число итераций 20 для `RandomizedSearchCV`. Также не забудьте передать параметр валидации `cv` и `random_state=1`. Какая лучшая точность получилась?"
   ]
  },
  {
   "cell_type": "code",
   "execution_count": 16,
   "metadata": {},
   "outputs": [
    {
     "name": "stdout",
     "output_type": "stream",
     "text": [
      "Fitting 5 folds for each of 20 candidates, totalling 100 fits\n"
     ]
    },
    {
     "ename": "JoblibValueError",
     "evalue": "JoblibValueError\n___________________________________________________________________________\nMultiprocessing exception:\n...........................................................................\nC:\\Users\\Егор\\Anaconda3\\lib\\runpy.py in _run_module_as_main(mod_name='ipykernel_launcher', alter_argv=1)\n    188         sys.exit(msg)\n    189     main_globals = sys.modules[\"__main__\"].__dict__\n    190     if alter_argv:\n    191         sys.argv[0] = mod_spec.origin\n    192     return _run_code(code, main_globals, None,\n--> 193                      \"__main__\", mod_spec)\n        mod_spec = ModuleSpec(name='ipykernel_launcher', loader=<_f...nda3\\\\lib\\\\site-packages\\\\ipykernel_launcher.py')\n    194 \n    195 def run_module(mod_name, init_globals=None,\n    196                run_name=None, alter_sys=False):\n    197     \"\"\"Execute a module's code without importing it\n\n...........................................................................\nC:\\Users\\Егор\\Anaconda3\\lib\\runpy.py in _run_code(code=<code object <module> at 0x00000000009ADAE0, fil...lib\\site-packages\\ipykernel_launcher.py\", line 5>, run_globals={'__builtins__': <module 'builtins' (built-in)>, '__cached__': r'C:\\Users\\Егор\\Anaconda3\\lib\\site-packages\\__pycache__\\ipykernel_launcher.cpython-35.pyc', '__doc__': 'Entry point for launching an IPython kernel.\\n\\nTh...orts until\\nafter removing the cwd from sys.path.\\n', '__file__': r'C:\\Users\\Егор\\Anaconda3\\lib\\site-packages\\ipykernel_launcher.py', '__loader__': <_frozen_importlib_external.SourceFileLoader object>, '__name__': '__main__', '__package__': '', '__spec__': ModuleSpec(name='ipykernel_launcher', loader=<_f...nda3\\\\lib\\\\site-packages\\\\ipykernel_launcher.py'), 'app': <module 'ipykernel.kernelapp' from 'C:\\\\Users\\\\Е...a3\\\\lib\\\\site-packages\\\\ipykernel\\\\kernelapp.py'>, 'sys': <module 'sys' (built-in)>}, init_globals=None, mod_name='__main__', mod_spec=ModuleSpec(name='ipykernel_launcher', loader=<_f...nda3\\\\lib\\\\site-packages\\\\ipykernel_launcher.py'), pkg_name='', script_name=None)\n     80                        __cached__ = cached,\n     81                        __doc__ = None,\n     82                        __loader__ = loader,\n     83                        __package__ = pkg_name,\n     84                        __spec__ = mod_spec)\n---> 85     exec(code, run_globals)\n        code = <code object <module> at 0x00000000009ADAE0, fil...lib\\site-packages\\ipykernel_launcher.py\", line 5>\n        run_globals = {'__builtins__': <module 'builtins' (built-in)>, '__cached__': r'C:\\Users\\Егор\\Anaconda3\\lib\\site-packages\\__pycache__\\ipykernel_launcher.cpython-35.pyc', '__doc__': 'Entry point for launching an IPython kernel.\\n\\nTh...orts until\\nafter removing the cwd from sys.path.\\n', '__file__': r'C:\\Users\\Егор\\Anaconda3\\lib\\site-packages\\ipykernel_launcher.py', '__loader__': <_frozen_importlib_external.SourceFileLoader object>, '__name__': '__main__', '__package__': '', '__spec__': ModuleSpec(name='ipykernel_launcher', loader=<_f...nda3\\\\lib\\\\site-packages\\\\ipykernel_launcher.py'), 'app': <module 'ipykernel.kernelapp' from 'C:\\\\Users\\\\Е...a3\\\\lib\\\\site-packages\\\\ipykernel\\\\kernelapp.py'>, 'sys': <module 'sys' (built-in)>}\n     86     return run_globals\n     87 \n     88 def _run_module_code(code, init_globals=None,\n     89                     mod_name=None, mod_spec=None,\n\n...........................................................................\nC:\\Users\\Егор\\Anaconda3\\lib\\site-packages\\ipykernel_launcher.py in <module>()\n     11     # This is added back by InteractiveShellApp.init_path()\n     12     if sys.path[0] == '':\n     13         del sys.path[0]\n     14 \n     15     from ipykernel import kernelapp as app\n---> 16     app.launch_new_instance()\n     17 \n     18 \n     19 \n     20 \n\n...........................................................................\nC:\\Users\\Егор\\Anaconda3\\lib\\site-packages\\traitlets\\config\\application.py in launch_instance(cls=<class 'ipykernel.kernelapp.IPKernelApp'>, argv=None, **kwargs={})\n    653 \n    654         If a global instance already exists, this reinitializes and starts it\n    655         \"\"\"\n    656         app = cls.instance(**kwargs)\n    657         app.initialize(argv)\n--> 658         app.start()\n        app.start = <bound method IPKernelApp.start of <ipykernel.kernelapp.IPKernelApp object>>\n    659 \n    660 #-----------------------------------------------------------------------------\n    661 # utility functions, for convenience\n    662 #-----------------------------------------------------------------------------\n\n...........................................................................\nC:\\Users\\Егор\\Anaconda3\\lib\\site-packages\\ipykernel\\kernelapp.py in start(self=<ipykernel.kernelapp.IPKernelApp object>)\n    472             return self.subapp.start()\n    473         if self.poller is not None:\n    474             self.poller.start()\n    475         self.kernel.start()\n    476         try:\n--> 477             ioloop.IOLoop.instance().start()\n    478         except KeyboardInterrupt:\n    479             pass\n    480 \n    481 launch_new_instance = IPKernelApp.launch_instance\n\n...........................................................................\nC:\\Users\\Егор\\Anaconda3\\lib\\site-packages\\zmq\\eventloop\\ioloop.py in start(self=<zmq.eventloop.ioloop.ZMQIOLoop object>)\n    172             )\n    173         return loop\n    174     \n    175     def start(self):\n    176         try:\n--> 177             super(ZMQIOLoop, self).start()\n        self.start = <bound method ZMQIOLoop.start of <zmq.eventloop.ioloop.ZMQIOLoop object>>\n    178         except ZMQError as e:\n    179             if e.errno == ETERM:\n    180                 # quietly return on ETERM\n    181                 pass\n\n...........................................................................\nC:\\Users\\Егор\\Anaconda3\\lib\\site-packages\\tornado\\ioloop.py in start(self=<zmq.eventloop.ioloop.ZMQIOLoop object>)\n    883                 self._events.update(event_pairs)\n    884                 while self._events:\n    885                     fd, events = self._events.popitem()\n    886                     try:\n    887                         fd_obj, handler_func = self._handlers[fd]\n--> 888                         handler_func(fd_obj, events)\n        handler_func = <function wrap.<locals>.null_wrapper>\n        fd_obj = <zmq.sugar.socket.Socket object>\n        events = 1\n    889                     except (OSError, IOError) as e:\n    890                         if errno_from_exception(e) == errno.EPIPE:\n    891                             # Happens when the client closes the connection\n    892                             pass\n\n...........................................................................\nC:\\Users\\Егор\\Anaconda3\\lib\\site-packages\\tornado\\stack_context.py in null_wrapper(*args=(<zmq.sugar.socket.Socket object>, 1), **kwargs={})\n    272         # Fast path when there are no active contexts.\n    273         def null_wrapper(*args, **kwargs):\n    274             try:\n    275                 current_state = _state.contexts\n    276                 _state.contexts = cap_contexts[0]\n--> 277                 return fn(*args, **kwargs)\n        args = (<zmq.sugar.socket.Socket object>, 1)\n        kwargs = {}\n    278             finally:\n    279                 _state.contexts = current_state\n    280         null_wrapper._wrapped = True\n    281         return null_wrapper\n\n...........................................................................\nC:\\Users\\Егор\\Anaconda3\\lib\\site-packages\\zmq\\eventloop\\zmqstream.py in _handle_events(self=<zmq.eventloop.zmqstream.ZMQStream object>, fd=<zmq.sugar.socket.Socket object>, events=1)\n    435             # dispatch events:\n    436             if events & IOLoop.ERROR:\n    437                 gen_log.error(\"got POLLERR event on ZMQStream, which doesn't make sense\")\n    438                 return\n    439             if events & IOLoop.READ:\n--> 440                 self._handle_recv()\n        self._handle_recv = <bound method ZMQStream._handle_recv of <zmq.eventloop.zmqstream.ZMQStream object>>\n    441                 if not self.socket:\n    442                     return\n    443             if events & IOLoop.WRITE:\n    444                 self._handle_send()\n\n...........................................................................\nC:\\Users\\Егор\\Anaconda3\\lib\\site-packages\\zmq\\eventloop\\zmqstream.py in _handle_recv(self=<zmq.eventloop.zmqstream.ZMQStream object>)\n    467                 gen_log.error(\"RECV Error: %s\"%zmq.strerror(e.errno))\n    468         else:\n    469             if self._recv_callback:\n    470                 callback = self._recv_callback\n    471                 # self._recv_callback = None\n--> 472                 self._run_callback(callback, msg)\n        self._run_callback = <bound method ZMQStream._run_callback of <zmq.eventloop.zmqstream.ZMQStream object>>\n        callback = <function wrap.<locals>.null_wrapper>\n        msg = [<zmq.sugar.frame.Frame object>, <zmq.sugar.frame.Frame object>, <zmq.sugar.frame.Frame object>, <zmq.sugar.frame.Frame object>, <zmq.sugar.frame.Frame object>, <zmq.sugar.frame.Frame object>, <zmq.sugar.frame.Frame object>]\n    473                 \n    474         # self.update_state()\n    475         \n    476 \n\n...........................................................................\nC:\\Users\\Егор\\Anaconda3\\lib\\site-packages\\zmq\\eventloop\\zmqstream.py in _run_callback(self=<zmq.eventloop.zmqstream.ZMQStream object>, callback=<function wrap.<locals>.null_wrapper>, *args=([<zmq.sugar.frame.Frame object>, <zmq.sugar.frame.Frame object>, <zmq.sugar.frame.Frame object>, <zmq.sugar.frame.Frame object>, <zmq.sugar.frame.Frame object>, <zmq.sugar.frame.Frame object>, <zmq.sugar.frame.Frame object>],), **kwargs={})\n    409         close our socket.\"\"\"\n    410         try:\n    411             # Use a NullContext to ensure that all StackContexts are run\n    412             # inside our blanket exception handler rather than outside.\n    413             with stack_context.NullContext():\n--> 414                 callback(*args, **kwargs)\n        callback = <function wrap.<locals>.null_wrapper>\n        args = ([<zmq.sugar.frame.Frame object>, <zmq.sugar.frame.Frame object>, <zmq.sugar.frame.Frame object>, <zmq.sugar.frame.Frame object>, <zmq.sugar.frame.Frame object>, <zmq.sugar.frame.Frame object>, <zmq.sugar.frame.Frame object>],)\n        kwargs = {}\n    415         except:\n    416             gen_log.error(\"Uncaught exception, closing connection.\",\n    417                           exc_info=True)\n    418             # Close the socket on an uncaught exception from a user callback\n\n...........................................................................\nC:\\Users\\Егор\\Anaconda3\\lib\\site-packages\\tornado\\stack_context.py in null_wrapper(*args=([<zmq.sugar.frame.Frame object>, <zmq.sugar.frame.Frame object>, <zmq.sugar.frame.Frame object>, <zmq.sugar.frame.Frame object>, <zmq.sugar.frame.Frame object>, <zmq.sugar.frame.Frame object>, <zmq.sugar.frame.Frame object>],), **kwargs={})\n    272         # Fast path when there are no active contexts.\n    273         def null_wrapper(*args, **kwargs):\n    274             try:\n    275                 current_state = _state.contexts\n    276                 _state.contexts = cap_contexts[0]\n--> 277                 return fn(*args, **kwargs)\n        args = ([<zmq.sugar.frame.Frame object>, <zmq.sugar.frame.Frame object>, <zmq.sugar.frame.Frame object>, <zmq.sugar.frame.Frame object>, <zmq.sugar.frame.Frame object>, <zmq.sugar.frame.Frame object>, <zmq.sugar.frame.Frame object>],)\n        kwargs = {}\n    278             finally:\n    279                 _state.contexts = current_state\n    280         null_wrapper._wrapped = True\n    281         return null_wrapper\n\n...........................................................................\nC:\\Users\\Егор\\Anaconda3\\lib\\site-packages\\ipykernel\\kernelbase.py in dispatcher(msg=[<zmq.sugar.frame.Frame object>, <zmq.sugar.frame.Frame object>, <zmq.sugar.frame.Frame object>, <zmq.sugar.frame.Frame object>, <zmq.sugar.frame.Frame object>, <zmq.sugar.frame.Frame object>, <zmq.sugar.frame.Frame object>])\n    278         if self.control_stream:\n    279             self.control_stream.on_recv(self.dispatch_control, copy=False)\n    280 \n    281         def make_dispatcher(stream):\n    282             def dispatcher(msg):\n--> 283                 return self.dispatch_shell(stream, msg)\n        msg = [<zmq.sugar.frame.Frame object>, <zmq.sugar.frame.Frame object>, <zmq.sugar.frame.Frame object>, <zmq.sugar.frame.Frame object>, <zmq.sugar.frame.Frame object>, <zmq.sugar.frame.Frame object>, <zmq.sugar.frame.Frame object>]\n    284             return dispatcher\n    285 \n    286         for s in self.shell_streams:\n    287             s.on_recv(make_dispatcher(s), copy=False)\n\n...........................................................................\nC:\\Users\\Егор\\Anaconda3\\lib\\site-packages\\ipykernel\\kernelbase.py in dispatch_shell(self=<ipykernel.ipkernel.IPythonKernel object>, stream=<zmq.eventloop.zmqstream.ZMQStream object>, msg={'buffers': [], 'content': {'allow_stdin': True, 'code': '%%time\\nbagging = BaggingClassifier(random_state=...20)\\nRCV.fit(X,y)### Ваш код должен быть здесь ###', 'silent': False, 'stop_on_error': True, 'store_history': True, 'user_expressions': {}}, 'header': {'date': datetime.datetime(2018, 12, 17, 5, 23, 13, 996470, tzinfo=tzutc()), 'msg_id': '5FC7557C47B14D25BEEBB20D0CF2DF41', 'msg_type': 'execute_request', 'session': 'CC9D4C7A1482494081C165A34B874B28', 'username': 'username', 'version': '5.0'}, 'metadata': {}, 'msg_id': '5FC7557C47B14D25BEEBB20D0CF2DF41', 'msg_type': 'execute_request', 'parent_header': {}})\n    230             self.log.warn(\"Unknown message type: %r\", msg_type)\n    231         else:\n    232             self.log.debug(\"%s: %s\", msg_type, msg)\n    233             self.pre_handler_hook()\n    234             try:\n--> 235                 handler(stream, idents, msg)\n        handler = <bound method Kernel.execute_request of <ipykernel.ipkernel.IPythonKernel object>>\n        stream = <zmq.eventloop.zmqstream.ZMQStream object>\n        idents = [b'CC9D4C7A1482494081C165A34B874B28']\n        msg = {'buffers': [], 'content': {'allow_stdin': True, 'code': '%%time\\nbagging = BaggingClassifier(random_state=...20)\\nRCV.fit(X,y)### Ваш код должен быть здесь ###', 'silent': False, 'stop_on_error': True, 'store_history': True, 'user_expressions': {}}, 'header': {'date': datetime.datetime(2018, 12, 17, 5, 23, 13, 996470, tzinfo=tzutc()), 'msg_id': '5FC7557C47B14D25BEEBB20D0CF2DF41', 'msg_type': 'execute_request', 'session': 'CC9D4C7A1482494081C165A34B874B28', 'username': 'username', 'version': '5.0'}, 'metadata': {}, 'msg_id': '5FC7557C47B14D25BEEBB20D0CF2DF41', 'msg_type': 'execute_request', 'parent_header': {}}\n    236             except Exception:\n    237                 self.log.error(\"Exception in message handler:\", exc_info=True)\n    238             finally:\n    239                 self.post_handler_hook()\n\n...........................................................................\nC:\\Users\\Егор\\Anaconda3\\lib\\site-packages\\ipykernel\\kernelbase.py in execute_request(self=<ipykernel.ipkernel.IPythonKernel object>, stream=<zmq.eventloop.zmqstream.ZMQStream object>, ident=[b'CC9D4C7A1482494081C165A34B874B28'], parent={'buffers': [], 'content': {'allow_stdin': True, 'code': '%%time\\nbagging = BaggingClassifier(random_state=...20)\\nRCV.fit(X,y)### Ваш код должен быть здесь ###', 'silent': False, 'stop_on_error': True, 'store_history': True, 'user_expressions': {}}, 'header': {'date': datetime.datetime(2018, 12, 17, 5, 23, 13, 996470, tzinfo=tzutc()), 'msg_id': '5FC7557C47B14D25BEEBB20D0CF2DF41', 'msg_type': 'execute_request', 'session': 'CC9D4C7A1482494081C165A34B874B28', 'username': 'username', 'version': '5.0'}, 'metadata': {}, 'msg_id': '5FC7557C47B14D25BEEBB20D0CF2DF41', 'msg_type': 'execute_request', 'parent_header': {}})\n    394         if not silent:\n    395             self.execution_count += 1\n    396             self._publish_execute_input(code, parent, self.execution_count)\n    397 \n    398         reply_content = self.do_execute(code, silent, store_history,\n--> 399                                         user_expressions, allow_stdin)\n        user_expressions = {}\n        allow_stdin = True\n    400 \n    401         # Flush output before sending the reply.\n    402         sys.stdout.flush()\n    403         sys.stderr.flush()\n\n...........................................................................\nC:\\Users\\Егор\\Anaconda3\\lib\\site-packages\\ipykernel\\ipkernel.py in do_execute(self=<ipykernel.ipkernel.IPythonKernel object>, code='%%time\\nbagging = BaggingClassifier(random_state=...20)\\nRCV.fit(X,y)### Ваш код должен быть здесь ###', silent=False, store_history=True, user_expressions={}, allow_stdin=True)\n    191 \n    192         self._forward_input(allow_stdin)\n    193 \n    194         reply_content = {}\n    195         try:\n--> 196             res = shell.run_cell(code, store_history=store_history, silent=silent)\n        res = undefined\n        shell.run_cell = <bound method ZMQInteractiveShell.run_cell of <ipykernel.zmqshell.ZMQInteractiveShell object>>\n        code = '%%time\\nbagging = BaggingClassifier(random_state=...20)\\nRCV.fit(X,y)### Ваш код должен быть здесь ###'\n        store_history = True\n        silent = False\n    197         finally:\n    198             self._restore_input()\n    199 \n    200         if res.error_before_exec is not None:\n\n...........................................................................\nC:\\Users\\Егор\\Anaconda3\\lib\\site-packages\\ipykernel\\zmqshell.py in run_cell(self=<ipykernel.zmqshell.ZMQInteractiveShell object>, *args=('%%time\\nbagging = BaggingClassifier(random_state=...20)\\nRCV.fit(X,y)### Ваш код должен быть здесь ###',), **kwargs={'silent': False, 'store_history': True})\n    528             )\n    529         self.payload_manager.write_payload(payload)\n    530 \n    531     def run_cell(self, *args, **kwargs):\n    532         self._last_traceback = None\n--> 533         return super(ZMQInteractiveShell, self).run_cell(*args, **kwargs)\n        self.run_cell = <bound method ZMQInteractiveShell.run_cell of <ipykernel.zmqshell.ZMQInteractiveShell object>>\n        args = ('%%time\\nbagging = BaggingClassifier(random_state=...20)\\nRCV.fit(X,y)### Ваш код должен быть здесь ###',)\n        kwargs = {'silent': False, 'store_history': True}\n    534 \n    535     def _showtraceback(self, etype, evalue, stb):\n    536         # try to preserve ordering of tracebacks and print statements\n    537         sys.stdout.flush()\n\n...........................................................................\nC:\\Users\\Егор\\Anaconda3\\lib\\site-packages\\IPython\\core\\interactiveshell.py in run_cell(self=<ipykernel.zmqshell.ZMQInteractiveShell object>, raw_cell='%%time\\nbagging = BaggingClassifier(random_state=...20)\\nRCV.fit(X,y)### Ваш код должен быть здесь ###', store_history=True, silent=False, shell_futures=True)\n   2693                 self.displayhook.exec_result = result\n   2694 \n   2695                 # Execute the user code\n   2696                 interactivity = \"none\" if silent else self.ast_node_interactivity\n   2697                 has_raised = self.run_ast_nodes(code_ast.body, cell_name,\n-> 2698                    interactivity=interactivity, compiler=compiler, result=result)\n        interactivity = 'last_expr'\n        compiler = <IPython.core.compilerop.CachingCompiler object>\n   2699                 \n   2700                 self.last_execution_succeeded = not has_raised\n   2701 \n   2702                 # Reset this so later displayed values do not modify the\n\n...........................................................................\nC:\\Users\\Егор\\Anaconda3\\lib\\site-packages\\IPython\\core\\interactiveshell.py in run_ast_nodes(self=<ipykernel.zmqshell.ZMQInteractiveShell object>, nodelist=[<_ast.Expr object>], cell_name='<ipython-input-16-5a4d4feea7dc>', interactivity='last', compiler=<IPython.core.compilerop.CachingCompiler object>, result=<ExecutionResult object at 60a45c0, execution_co..._before_exec=None error_in_exec=None result=None>)\n   2803                     return True\n   2804 \n   2805             for i, node in enumerate(to_run_interactive):\n   2806                 mod = ast.Interactive([node])\n   2807                 code = compiler(mod, cell_name, \"single\")\n-> 2808                 if self.run_code(code, result):\n        self.run_code = <bound method InteractiveShell.run_code of <ipykernel.zmqshell.ZMQInteractiveShell object>>\n        code = <code object <module> at 0x000000000AFE7B70, file \"<ipython-input-16-5a4d4feea7dc>\", line 1>\n        result = <ExecutionResult object at 60a45c0, execution_co..._before_exec=None error_in_exec=None result=None>\n   2809                     return True\n   2810 \n   2811             # Flush softspace\n   2812             if softspace(sys.stdout, 0):\n\n...........................................................................\nC:\\Users\\Егор\\Anaconda3\\lib\\site-packages\\IPython\\core\\interactiveshell.py in run_code(self=<ipykernel.zmqshell.ZMQInteractiveShell object>, code_obj=<code object <module> at 0x000000000AFE7B70, file \"<ipython-input-16-5a4d4feea7dc>\", line 1>, result=<ExecutionResult object at 60a45c0, execution_co..._before_exec=None error_in_exec=None result=None>)\n   2857         outflag = True  # happens in more places, so it's easier as default\n   2858         try:\n   2859             try:\n   2860                 self.hooks.pre_run_code_hook()\n   2861                 #rprint('Running code', repr(code_obj)) # dbg\n-> 2862                 exec(code_obj, self.user_global_ns, self.user_ns)\n        code_obj = <code object <module> at 0x000000000AFE7B70, file \"<ipython-input-16-5a4d4feea7dc>\", line 1>\n        self.user_global_ns = {'BaggingClassifier': <class 'sklearn.ensemble.bagging.BaggingClassifier'>, 'GridSearchCV': <class 'sklearn.model_selection._search.GridSearchCV'>, 'In': ['', \"get_ipython().magic('matplotlib inline')\\nimport ...('ignore')\\nimport pandas as pd\\nimport numpy as np\", '## Сделаем функцию, которая будет заменять NaN з...].fillna(table[col].median())\\n    return table   ', \"## Считываем данные\\ndata = pd.read_csv('../data/credit_scoring_sample.csv', sep =';')\\ndata.head(20)\", '## Рассмотрим типы считанных данных\\ndata.dtypes', \"## Посмотрим на распределение классов в зависимо...['SeriousDlqin2yrs'].value_counts()/data.shape[0]\", \"## Выберем названия всех признаков из таблицы, к... != 'SeriousDlqin2yrs']\\nindependent_columns_names\", '## Применяем функцию, заменяющую все NaN значени... соответствующего столбца\\ntable =delete_nan(data)', \"## Разделяем таргет и признаки \\nX =table[independent_columns_names]\\ny = table['SeriousDlqin2yrs']\", 'get_ipython().run_cell_magic(\\'time\\', \\'\\', \"baggin...\\\\nRCV.fit(X,y)### Ваш код должен быть здесь ###\")', 'from sklearn.ensemble import BaggingClassifier\\nf...estimator__C\": [0.0001, 0.001, 0.01, 1, 10, 100]}', 'get_ipython().run_cell_magic(\\'time\\', \\'\\', \"baggin...\\\\nRCV.fit(X,y)### Ваш код должен быть здесь ###\")', 'from sklearn.linear_model import LogisticRegress...edKFold(n_splits=5, shuffle=True, random_state=5)', 'get_ipython().run_cell_magic(\\'time\\', \\'\\', \"baggin...\\\\nRCV.fit(X,y)### Ваш код должен быть здесь ###\")', 'get_ipython().run_cell_magic(\\'time\\', \\'\\', \"baggin...\\\\nRCV.fit(X,y)### Ваш код должен быть здесь ###\")', 'from sklearn.ensemble import RandomForestClassif...я которой должна у вас продолжать храниться в skf', 'get_ipython().run_cell_magic(\\'time\\', \\'\\', \"baggin...\\\\nRCV.fit(X,y)### Ваш код должен быть здесь ###\")'], 'LogisticRegression': <class 'sklearn.linear_model.logistic.LogisticRegression'>, 'Out': {3:     SeriousDlqin2yrs  age  NumberOfTime30-59Days...    1.0  \n19         6500.0                 0.0  , 4: SeriousDlqin2yrs                          int64\n...ndents                      float64\ndtype: object, 5: 0    0.777511\n1    0.222489\nName: SeriousDlqin2yrs, dtype: float64, 6: ['age', 'NumberOfTime30-59DaysPastDueNotWorse', 'DebtRatio', 'NumberOfTimes90DaysLate', 'NumberOfTime60-89DaysPastDueNotWorse', 'MonthlyIncome', 'NumberOfDependents']}, 'RCV': RandomizedSearchCV(cv=StratifiedKFold(n_splits=5...n_train_score=True, scoring='roc_auc', verbose=1), 'RandomForestClassifier': <class 'sklearn.ensemble.forest.RandomForestClassifier'>, 'RandomizedSearchCV': <class 'sklearn.model_selection._search.RandomizedSearchCV'>, 'StratifiedKFold': <class 'sklearn.model_selection._split.StratifiedKFold'>, 'X':        age  NumberOfTime30-59DaysPastDueNotWorse...0                 2.0  \n\n[45063 rows x 7 columns], ...}\n        self.user_ns = {'BaggingClassifier': <class 'sklearn.ensemble.bagging.BaggingClassifier'>, 'GridSearchCV': <class 'sklearn.model_selection._search.GridSearchCV'>, 'In': ['', \"get_ipython().magic('matplotlib inline')\\nimport ...('ignore')\\nimport pandas as pd\\nimport numpy as np\", '## Сделаем функцию, которая будет заменять NaN з...].fillna(table[col].median())\\n    return table   ', \"## Считываем данные\\ndata = pd.read_csv('../data/credit_scoring_sample.csv', sep =';')\\ndata.head(20)\", '## Рассмотрим типы считанных данных\\ndata.dtypes', \"## Посмотрим на распределение классов в зависимо...['SeriousDlqin2yrs'].value_counts()/data.shape[0]\", \"## Выберем названия всех признаков из таблицы, к... != 'SeriousDlqin2yrs']\\nindependent_columns_names\", '## Применяем функцию, заменяющую все NaN значени... соответствующего столбца\\ntable =delete_nan(data)', \"## Разделяем таргет и признаки \\nX =table[independent_columns_names]\\ny = table['SeriousDlqin2yrs']\", 'get_ipython().run_cell_magic(\\'time\\', \\'\\', \"baggin...\\\\nRCV.fit(X,y)### Ваш код должен быть здесь ###\")', 'from sklearn.ensemble import BaggingClassifier\\nf...estimator__C\": [0.0001, 0.001, 0.01, 1, 10, 100]}', 'get_ipython().run_cell_magic(\\'time\\', \\'\\', \"baggin...\\\\nRCV.fit(X,y)### Ваш код должен быть здесь ###\")', 'from sklearn.linear_model import LogisticRegress...edKFold(n_splits=5, shuffle=True, random_state=5)', 'get_ipython().run_cell_magic(\\'time\\', \\'\\', \"baggin...\\\\nRCV.fit(X,y)### Ваш код должен быть здесь ###\")', 'get_ipython().run_cell_magic(\\'time\\', \\'\\', \"baggin...\\\\nRCV.fit(X,y)### Ваш код должен быть здесь ###\")', 'from sklearn.ensemble import RandomForestClassif...я которой должна у вас продолжать храниться в skf', 'get_ipython().run_cell_magic(\\'time\\', \\'\\', \"baggin...\\\\nRCV.fit(X,y)### Ваш код должен быть здесь ###\")'], 'LogisticRegression': <class 'sklearn.linear_model.logistic.LogisticRegression'>, 'Out': {3:     SeriousDlqin2yrs  age  NumberOfTime30-59Days...    1.0  \n19         6500.0                 0.0  , 4: SeriousDlqin2yrs                          int64\n...ndents                      float64\ndtype: object, 5: 0    0.777511\n1    0.222489\nName: SeriousDlqin2yrs, dtype: float64, 6: ['age', 'NumberOfTime30-59DaysPastDueNotWorse', 'DebtRatio', 'NumberOfTimes90DaysLate', 'NumberOfTime60-89DaysPastDueNotWorse', 'MonthlyIncome', 'NumberOfDependents']}, 'RCV': RandomizedSearchCV(cv=StratifiedKFold(n_splits=5...n_train_score=True, scoring='roc_auc', verbose=1), 'RandomForestClassifier': <class 'sklearn.ensemble.forest.RandomForestClassifier'>, 'RandomizedSearchCV': <class 'sklearn.model_selection._search.RandomizedSearchCV'>, 'StratifiedKFold': <class 'sklearn.model_selection._split.StratifiedKFold'>, 'X':        age  NumberOfTime30-59DaysPastDueNotWorse...0                 2.0  \n\n[45063 rows x 7 columns], ...}\n   2863             finally:\n   2864                 # Reset our crash handler in place\n   2865                 sys.excepthook = old_excepthook\n   2866         except SystemExit as e:\n\n...........................................................................\nC:\\Users\\Егор\\Documents\\GitHub\\ods2018\\labs\\<ipython-input-16-5a4d4feea7dc> in <module>()\n----> 1 \n      2 \n      3 \n      4 \n      5 \n      6 get_ipython().run_cell_magic('time', '', \"bagging = BaggingClassifier(random_state=42,base_estimator=lr,n_estimators=100)\\nRCV = RandomizedSearchCV(bagging,parameters, n_jobs=-1, cv=skf, verbose=1, scoring='roc_auc',random_state=1, n_iter =20)\\nRCV.fit(X,y)### Ваш код должен быть здесь ###\")\n      7 \n      8 \n      9 \n     10 \n\n...........................................................................\nC:\\Users\\Егор\\Anaconda3\\lib\\site-packages\\IPython\\core\\interactiveshell.py in run_cell_magic(self=<ipykernel.zmqshell.ZMQInteractiveShell object>, magic_name='time', line='', cell='bagging = BaggingClassifier(random_state=42,base...20)\\nRCV.fit(X,y)### Ваш код должен быть здесь ###')\n   2098             # This will need to be updated if the internal calling logic gets\n   2099             # refactored, or else we'll be expanding the wrong variables.\n   2100             stack_depth = 2\n   2101             magic_arg_s = self.var_expand(line, stack_depth)\n   2102             with self.builtin_trap:\n-> 2103                 result = fn(magic_arg_s, cell)\n        result = undefined\n        fn = <bound method ExecutionMagics.time of <IPython.core.magics.execution.ExecutionMagics object>>\n        magic_arg_s = ''\n        cell = 'bagging = BaggingClassifier(random_state=42,base...20)\\nRCV.fit(X,y)### Ваш код должен быть здесь ###'\n   2104             return result\n   2105 \n   2106     def find_line_magic(self, magic_name):\n   2107         \"\"\"Find and return a line magic by name.\n\n...........................................................................\nC:\\Users\\Егор\\Documents\\GitHub\\ods2018\\labs\\<decorator-gen-63> in time(self=<IPython.core.magics.execution.ExecutionMagics object>, line='', cell='bagging = BaggingClassifier(random_state=42,base...20)\\nRCV.fit(X,y)### Ваш код должен быть здесь ###', local_ns=None)\n      1 \n----> 2 \n      3 \n      4 \n      5 \n      6 \n      7 \n      8 \n      9 \n     10 \n\n...........................................................................\nC:\\Users\\Егор\\Anaconda3\\lib\\site-packages\\IPython\\core\\magic.py in <lambda>(f=<function ExecutionMagics.time>, *a=(<IPython.core.magics.execution.ExecutionMagics object>, '', 'bagging = BaggingClassifier(random_state=42,base...20)\\nRCV.fit(X,y)### Ваш код должен быть здесь ###', None), **k={})\n    182     validate_type(magic_kind)\n    183 \n    184     # This is a closure to capture the magic_kind.  We could also use a class,\n    185     # but it's overkill for just that one bit of state.\n    186     def magic_deco(arg):\n--> 187         call = lambda f, *a, **k: f(*a, **k)\n        f = <function ExecutionMagics.time>\n        a = (<IPython.core.magics.execution.ExecutionMagics object>, '', 'bagging = BaggingClassifier(random_state=42,base...20)\\nRCV.fit(X,y)### Ваш код должен быть здесь ###', None)\n        k = {}\n    188 \n    189         if callable(arg):\n    190             # \"Naked\" decorator call (just @foo, no args)\n    191             func = arg\n\n...........................................................................\nC:\\Users\\Егор\\Anaconda3\\lib\\site-packages\\IPython\\core\\magics\\execution.py in time(self=<IPython.core.magics.execution.ExecutionMagics object>, line='', cell='bagging = BaggingClassifier(random_state=42,base...20)\\nRCV.fit(X,y)### Ваш код должен быть здесь ###', local_ns=None)\n   1210                 return\n   1211             end = clock2()\n   1212         else:\n   1213             st = clock2()\n   1214             try:\n-> 1215                 exec(code, glob, local_ns)\n        code = <code object <module> at 0x000000000BE87AE0, file \"<timed exec>\", line 1>\n        glob = {'BaggingClassifier': <class 'sklearn.ensemble.bagging.BaggingClassifier'>, 'GridSearchCV': <class 'sklearn.model_selection._search.GridSearchCV'>, 'In': ['', \"get_ipython().magic('matplotlib inline')\\nimport ...('ignore')\\nimport pandas as pd\\nimport numpy as np\", '## Сделаем функцию, которая будет заменять NaN з...].fillna(table[col].median())\\n    return table   ', \"## Считываем данные\\ndata = pd.read_csv('../data/credit_scoring_sample.csv', sep =';')\\ndata.head(20)\", '## Рассмотрим типы считанных данных\\ndata.dtypes', \"## Посмотрим на распределение классов в зависимо...['SeriousDlqin2yrs'].value_counts()/data.shape[0]\", \"## Выберем названия всех признаков из таблицы, к... != 'SeriousDlqin2yrs']\\nindependent_columns_names\", '## Применяем функцию, заменяющую все NaN значени... соответствующего столбца\\ntable =delete_nan(data)', \"## Разделяем таргет и признаки \\nX =table[independent_columns_names]\\ny = table['SeriousDlqin2yrs']\", 'get_ipython().run_cell_magic(\\'time\\', \\'\\', \"baggin...\\\\nRCV.fit(X,y)### Ваш код должен быть здесь ###\")', 'from sklearn.ensemble import BaggingClassifier\\nf...estimator__C\": [0.0001, 0.001, 0.01, 1, 10, 100]}', 'get_ipython().run_cell_magic(\\'time\\', \\'\\', \"baggin...\\\\nRCV.fit(X,y)### Ваш код должен быть здесь ###\")', 'from sklearn.linear_model import LogisticRegress...edKFold(n_splits=5, shuffle=True, random_state=5)', 'get_ipython().run_cell_magic(\\'time\\', \\'\\', \"baggin...\\\\nRCV.fit(X,y)### Ваш код должен быть здесь ###\")', 'get_ipython().run_cell_magic(\\'time\\', \\'\\', \"baggin...\\\\nRCV.fit(X,y)### Ваш код должен быть здесь ###\")', 'from sklearn.ensemble import RandomForestClassif...я которой должна у вас продолжать храниться в skf', 'get_ipython().run_cell_magic(\\'time\\', \\'\\', \"baggin...\\\\nRCV.fit(X,y)### Ваш код должен быть здесь ###\")'], 'LogisticRegression': <class 'sklearn.linear_model.logistic.LogisticRegression'>, 'Out': {3:     SeriousDlqin2yrs  age  NumberOfTime30-59Days...    1.0  \n19         6500.0                 0.0  , 4: SeriousDlqin2yrs                          int64\n...ndents                      float64\ndtype: object, 5: 0    0.777511\n1    0.222489\nName: SeriousDlqin2yrs, dtype: float64, 6: ['age', 'NumberOfTime30-59DaysPastDueNotWorse', 'DebtRatio', 'NumberOfTimes90DaysLate', 'NumberOfTime60-89DaysPastDueNotWorse', 'MonthlyIncome', 'NumberOfDependents']}, 'RCV': RandomizedSearchCV(cv=StratifiedKFold(n_splits=5...n_train_score=True, scoring='roc_auc', verbose=1), 'RandomForestClassifier': <class 'sklearn.ensemble.forest.RandomForestClassifier'>, 'RandomizedSearchCV': <class 'sklearn.model_selection._search.RandomizedSearchCV'>, 'StratifiedKFold': <class 'sklearn.model_selection._split.StratifiedKFold'>, 'X':        age  NumberOfTime30-59DaysPastDueNotWorse...0                 2.0  \n\n[45063 rows x 7 columns], ...}\n        local_ns = None\n   1216             except:\n   1217                 self.shell.showtraceback()\n   1218                 return\n   1219             end = clock2()\n\n...........................................................................\nC:\\Users\\Егор\\Documents\\GitHub\\ods2018\\labs\\<timed exec> in <module>()\n      1 \n      2 \n----> 3 \n      4 \n      5 \n      6 \n      7 \n      8 \n      9 \n     10 \n\n...........................................................................\nC:\\Users\\Егор\\AppData\\Roaming\\Python\\Python35\\site-packages\\sklearn\\model_selection\\_search.py in fit(self=RandomizedSearchCV(cv=StratifiedKFold(n_splits=5...n_train_score=True, scoring='roc_auc', verbose=1), X=       age  NumberOfTime30-59DaysPastDueNotWorse...0                 2.0  \n\n[45063 rows x 7 columns], y=0        0\n1        0\n2        0\n3        0\n4   ...0\n45062    1\nName: SeriousDlqin2yrs, dtype: int64, groups=None)\n   1180             train/test set.\n   1181         \"\"\"\n   1182         sampled_params = ParameterSampler(self.param_distributions,\n   1183                                           self.n_iter,\n   1184                                           random_state=self.random_state)\n-> 1185         return self._fit(X, y, groups, sampled_params)\n        self._fit = <bound method BaseSearchCV._fit of RandomizedSea..._train_score=True, scoring='roc_auc', verbose=1)>\n        X =        age  NumberOfTime30-59DaysPastDueNotWorse...0                 2.0  \n\n[45063 rows x 7 columns]\n        y = 0        0\n1        0\n2        0\n3        0\n4   ...0\n45062    1\nName: SeriousDlqin2yrs, dtype: int64\n        groups = None\n        sampled_params = <sklearn.model_selection._search.ParameterSampler object>\n   1186 \n   1187 \n   1188 \n   1189 \n\n...........................................................................\nC:\\Users\\Егор\\AppData\\Roaming\\Python\\Python35\\site-packages\\sklearn\\model_selection\\_search.py in _fit(self=RandomizedSearchCV(cv=StratifiedKFold(n_splits=5...n_train_score=True, scoring='roc_auc', verbose=1), X=       age  NumberOfTime30-59DaysPastDueNotWorse...0                 2.0  \n\n[45063 rows x 7 columns], y=0        0\n1        0\n2        0\n3        0\n4   ...0\n45062    1\nName: SeriousDlqin2yrs, dtype: int64, groups=None, parameter_iterable=<sklearn.model_selection._search.ParameterSampler object>)\n    557                                   fit_params=self.fit_params,\n    558                                   return_train_score=self.return_train_score,\n    559                                   return_n_test_samples=True,\n    560                                   return_times=True, return_parameters=True,\n    561                                   error_score=self.error_score)\n--> 562           for parameters in parameter_iterable\n        parameters = undefined\n        parameter_iterable = <sklearn.model_selection._search.ParameterSampler object>\n    563           for train, test in cv.split(X, y, groups))\n    564 \n    565         # if one choose to see train score, \"out\" will contain train score info\n    566         if self.return_train_score:\n\n...........................................................................\nC:\\Users\\Егор\\AppData\\Roaming\\Python\\Python35\\site-packages\\sklearn\\externals\\joblib\\parallel.py in __call__(self=Parallel(n_jobs=-1), iterable=<generator object BaseSearchCV._fit.<locals>.<genexpr>>)\n    763             if pre_dispatch == \"all\" or n_jobs == 1:\n    764                 # The iterable was consumed all at once by the above for loop.\n    765                 # No need to wait for async callbacks to trigger to\n    766                 # consumption.\n    767                 self._iterating = False\n--> 768             self.retrieve()\n        self.retrieve = <bound method Parallel.retrieve of Parallel(n_jobs=-1)>\n    769             # Make sure that we get a last message telling us we are done\n    770             elapsed_time = time.time() - self._start_time\n    771             self._print('Done %3i out of %3i | elapsed: %s finished',\n    772                         (len(self._output), len(self._output),\n\n---------------------------------------------------------------------------\nSub-process traceback:\n---------------------------------------------------------------------------\nValueError                                         Mon Dec 17 12:23:15 2018\nPID: 5116                  Python 3.5.4: C:\\Users\\Егор\\Anaconda3\\python.exe\n...........................................................................\nC:\\Users\\Егор\\AppData\\Roaming\\Python\\Python35\\site-packages\\sklearn\\externals\\joblib\\parallel.py in __call__(self=<sklearn.externals.joblib.parallel.BatchedCalls object>)\n    126     def __init__(self, iterator_slice):\n    127         self.items = list(iterator_slice)\n    128         self._size = len(self.items)\n    129 \n    130     def __call__(self):\n--> 131         return [func(*args, **kwargs) for func, args, kwargs in self.items]\n        self.items = [(<function _fit_and_score>, (BaggingClassifier(base_estimator=LogisticRegress...    random_state=42, verbose=0, warm_start=False),        age  NumberOfTime30-59DaysPastDueNotWorse...0                 2.0  \n\n[45063 rows x 7 columns], 0        0\n1        0\n2        0\n3        0\n4   ...0\n45062    1\nName: SeriousDlqin2yrs, dtype: int64, make_scorer(roc_auc_score, needs_threshold=True), array([    0,     1,     2, ..., 45059, 45060, 45061]), array([    3,     4,     6, ..., 45047, 45056, 45062]), 1, {'max_depth': 15, 'max_features': 2, 'min_samples_leaf': 3}), {'error_score': 'raise', 'fit_params': {}, 'return_n_test_samples': True, 'return_parameters': True, 'return_times': True, 'return_train_score': True})]\n    132 \n    133     def __len__(self):\n    134         return self._size\n    135 \n\n...........................................................................\nC:\\Users\\Егор\\AppData\\Roaming\\Python\\Python35\\site-packages\\sklearn\\externals\\joblib\\parallel.py in <listcomp>(.0=<list_iterator object>)\n    126     def __init__(self, iterator_slice):\n    127         self.items = list(iterator_slice)\n    128         self._size = len(self.items)\n    129 \n    130     def __call__(self):\n--> 131         return [func(*args, **kwargs) for func, args, kwargs in self.items]\n        func = <function _fit_and_score>\n        args = (BaggingClassifier(base_estimator=LogisticRegress...    random_state=42, verbose=0, warm_start=False),        age  NumberOfTime30-59DaysPastDueNotWorse...0                 2.0  \n\n[45063 rows x 7 columns], 0        0\n1        0\n2        0\n3        0\n4   ...0\n45062    1\nName: SeriousDlqin2yrs, dtype: int64, make_scorer(roc_auc_score, needs_threshold=True), array([    0,     1,     2, ..., 45059, 45060, 45061]), array([    3,     4,     6, ..., 45047, 45056, 45062]), 1, {'max_depth': 15, 'max_features': 2, 'min_samples_leaf': 3})\n        kwargs = {'error_score': 'raise', 'fit_params': {}, 'return_n_test_samples': True, 'return_parameters': True, 'return_times': True, 'return_train_score': True}\n    132 \n    133     def __len__(self):\n    134         return self._size\n    135 \n\n...........................................................................\nC:\\Users\\Егор\\AppData\\Roaming\\Python\\Python35\\site-packages\\sklearn\\model_selection\\_validation.py in _fit_and_score(estimator=BaggingClassifier(base_estimator=LogisticRegress...    random_state=42, verbose=0, warm_start=False), X=       age  NumberOfTime30-59DaysPastDueNotWorse...0                 2.0  \n\n[45063 rows x 7 columns], y=0        0\n1        0\n2        0\n3        0\n4   ...0\n45062    1\nName: SeriousDlqin2yrs, dtype: int64, scorer=make_scorer(roc_auc_score, needs_threshold=True), train=array([    0,     1,     2, ..., 45059, 45060, 45061]), test=array([    3,     4,     6, ..., 45047, 45056, 45062]), verbose=1, parameters={'max_depth': 15, 'max_features': 2, 'min_samples_leaf': 3}, fit_params={}, return_train_score=True, return_parameters=True, return_n_test_samples=True, return_times=True, error_score='raise')\n    222     fit_params = fit_params if fit_params is not None else {}\n    223     fit_params = dict([(k, _index_param_value(X, v, train))\n    224                       for k, v in fit_params.items()])\n    225 \n    226     if parameters is not None:\n--> 227         estimator.set_params(**parameters)\n        estimator.set_params = <bound method BaseEstimator.set_params of Baggin...   random_state=42, verbose=0, warm_start=False)>\n        parameters = {'max_depth': 15, 'max_features': 2, 'min_samples_leaf': 3}\n    228 \n    229     start_time = time.time()\n    230 \n    231     X_train, y_train = _safe_split(estimator, X, y, train)\n\n...........................................................................\nC:\\Users\\Егор\\AppData\\Roaming\\Python\\Python35\\site-packages\\sklearn\\base.py in set_params(self=BaggingClassifier(base_estimator=LogisticRegress...    random_state=42, verbose=0, warm_start=False), **params={'max_depth': 15, 'max_features': 2, 'min_samples_leaf': 3})\n    286                 # simple objects case\n    287                 if key not in valid_params:\n    288                     raise ValueError('Invalid parameter %s for estimator %s. '\n    289                                      'Check the list of available parameters '\n    290                                      'with `estimator.get_params().keys()`.' %\n--> 291                                      (key, self.__class__.__name__))\n        key = 'max_depth'\n        self.__class__.__name__ = 'BaggingClassifier'\n    292                 setattr(self, key, value)\n    293         return self\n    294 \n    295     def __repr__(self):\n\nValueError: Invalid parameter max_depth for estimator BaggingClassifier. Check the list of available parameters with `estimator.get_params().keys()`.\n___________________________________________________________________________",
     "output_type": "error",
     "traceback": [
      "\u001b[1;31m---------------------------------------------------------------------------\u001b[0m",
      "\u001b[1;31mRemoteTraceback\u001b[0m                           Traceback (most recent call last)",
      "\u001b[1;31mRemoteTraceback\u001b[0m: \n\"\"\"\nTraceback (most recent call last):\n  File \"C:\\Users\\Егор\\AppData\\Roaming\\Python\\Python35\\site-packages\\sklearn\\externals\\joblib\\_parallel_backends.py\", line 340, in __call__\n    return self.func(*args, **kwargs)\n  File \"C:\\Users\\Егор\\AppData\\Roaming\\Python\\Python35\\site-packages\\sklearn\\externals\\joblib\\parallel.py\", line 131, in __call__\n    return [func(*args, **kwargs) for func, args, kwargs in self.items]\n  File \"C:\\Users\\Егор\\AppData\\Roaming\\Python\\Python35\\site-packages\\sklearn\\externals\\joblib\\parallel.py\", line 131, in <listcomp>\n    return [func(*args, **kwargs) for func, args, kwargs in self.items]\n  File \"C:\\Users\\Егор\\AppData\\Roaming\\Python\\Python35\\site-packages\\sklearn\\model_selection\\_validation.py\", line 227, in _fit_and_score\n    estimator.set_params(**parameters)\n  File \"C:\\Users\\Егор\\AppData\\Roaming\\Python\\Python35\\site-packages\\sklearn\\base.py\", line 291, in set_params\n    (key, self.__class__.__name__))\nValueError: Invalid parameter max_depth for estimator BaggingClassifier. Check the list of available parameters with `estimator.get_params().keys()`.\n\nDuring handling of the above exception, another exception occurred:\n\nTraceback (most recent call last):\n  File \"C:\\Users\\Егор\\Anaconda3\\lib\\multiprocessing\\pool.py\", line 119, in worker\n    result = (True, func(*args, **kwds))\n  File \"C:\\Users\\Егор\\AppData\\Roaming\\Python\\Python35\\site-packages\\sklearn\\externals\\joblib\\_parallel_backends.py\", line 349, in __call__\n    raise TransportableException(text, e_type)\nsklearn.externals.joblib.my_exceptions.TransportableException: TransportableException\n___________________________________________________________________________\nValueError                                         Mon Dec 17 12:23:15 2018\nPID: 5116                  Python 3.5.4: C:\\Users\\Егор\\Anaconda3\\python.exe\n...........................................................................\nC:\\Users\\Егор\\AppData\\Roaming\\Python\\Python35\\site-packages\\sklearn\\externals\\joblib\\parallel.py in __call__(self=<sklearn.externals.joblib.parallel.BatchedCalls object>)\n    126     def __init__(self, iterator_slice):\n    127         self.items = list(iterator_slice)\n    128         self._size = len(self.items)\n    129 \n    130     def __call__(self):\n--> 131         return [func(*args, **kwargs) for func, args, kwargs in self.items]\n        self.items = [(<function _fit_and_score>, (BaggingClassifier(base_estimator=LogisticRegress...    random_state=42, verbose=0, warm_start=False),        age  NumberOfTime30-59DaysPastDueNotWorse...0                 2.0  \n\n[45063 rows x 7 columns], 0        0\n1        0\n2        0\n3        0\n4   ...0\n45062    1\nName: SeriousDlqin2yrs, dtype: int64, make_scorer(roc_auc_score, needs_threshold=True), array([    0,     1,     2, ..., 45059, 45060, 45061]), array([    3,     4,     6, ..., 45047, 45056, 45062]), 1, {'max_depth': 15, 'max_features': 2, 'min_samples_leaf': 3}), {'error_score': 'raise', 'fit_params': {}, 'return_n_test_samples': True, 'return_parameters': True, 'return_times': True, 'return_train_score': True})]\n    132 \n    133     def __len__(self):\n    134         return self._size\n    135 \n\n...........................................................................\nC:\\Users\\Егор\\AppData\\Roaming\\Python\\Python35\\site-packages\\sklearn\\externals\\joblib\\parallel.py in <listcomp>(.0=<list_iterator object>)\n    126     def __init__(self, iterator_slice):\n    127         self.items = list(iterator_slice)\n    128         self._size = len(self.items)\n    129 \n    130     def __call__(self):\n--> 131         return [func(*args, **kwargs) for func, args, kwargs in self.items]\n        func = <function _fit_and_score>\n        args = (BaggingClassifier(base_estimator=LogisticRegress...    random_state=42, verbose=0, warm_start=False),        age  NumberOfTime30-59DaysPastDueNotWorse...0                 2.0  \n\n[45063 rows x 7 columns], 0        0\n1        0\n2        0\n3        0\n4   ...0\n45062    1\nName: SeriousDlqin2yrs, dtype: int64, make_scorer(roc_auc_score, needs_threshold=True), array([    0,     1,     2, ..., 45059, 45060, 45061]), array([    3,     4,     6, ..., 45047, 45056, 45062]), 1, {'max_depth': 15, 'max_features': 2, 'min_samples_leaf': 3})\n        kwargs = {'error_score': 'raise', 'fit_params': {}, 'return_n_test_samples': True, 'return_parameters': True, 'return_times': True, 'return_train_score': True}\n    132 \n    133     def __len__(self):\n    134         return self._size\n    135 \n\n...........................................................................\nC:\\Users\\Егор\\AppData\\Roaming\\Python\\Python35\\site-packages\\sklearn\\model_selection\\_validation.py in _fit_and_score(estimator=BaggingClassifier(base_estimator=LogisticRegress...    random_state=42, verbose=0, warm_start=False), X=       age  NumberOfTime30-59DaysPastDueNotWorse...0                 2.0  \n\n[45063 rows x 7 columns], y=0        0\n1        0\n2        0\n3        0\n4   ...0\n45062    1\nName: SeriousDlqin2yrs, dtype: int64, scorer=make_scorer(roc_auc_score, needs_threshold=True), train=array([    0,     1,     2, ..., 45059, 45060, 45061]), test=array([    3,     4,     6, ..., 45047, 45056, 45062]), verbose=1, parameters={'max_depth': 15, 'max_features': 2, 'min_samples_leaf': 3}, fit_params={}, return_train_score=True, return_parameters=True, return_n_test_samples=True, return_times=True, error_score='raise')\n    222     fit_params = fit_params if fit_params is not None else {}\n    223     fit_params = dict([(k, _index_param_value(X, v, train))\n    224                       for k, v in fit_params.items()])\n    225 \n    226     if parameters is not None:\n--> 227         estimator.set_params(**parameters)\n        estimator.set_params = <bound method BaseEstimator.set_params of Baggin...   random_state=42, verbose=0, warm_start=False)>\n        parameters = {'max_depth': 15, 'max_features': 2, 'min_samples_leaf': 3}\n    228 \n    229     start_time = time.time()\n    230 \n    231     X_train, y_train = _safe_split(estimator, X, y, train)\n\n...........................................................................\nC:\\Users\\Егор\\AppData\\Roaming\\Python\\Python35\\site-packages\\sklearn\\base.py in set_params(self=BaggingClassifier(base_estimator=LogisticRegress...    random_state=42, verbose=0, warm_start=False), **params={'max_depth': 15, 'max_features': 2, 'min_samples_leaf': 3})\n    286                 # simple objects case\n    287                 if key not in valid_params:\n    288                     raise ValueError('Invalid parameter %s for estimator %s. '\n    289                                      'Check the list of available parameters '\n    290                                      'with `estimator.get_params().keys()`.' %\n--> 291                                      (key, self.__class__.__name__))\n        key = 'max_depth'\n        self.__class__.__name__ = 'BaggingClassifier'\n    292                 setattr(self, key, value)\n    293         return self\n    294 \n    295     def __repr__(self):\n\nValueError: Invalid parameter max_depth for estimator BaggingClassifier. Check the list of available parameters with `estimator.get_params().keys()`.\n___________________________________________________________________________\n\"\"\"",
      "\nThe above exception was the direct cause of the following exception:\n",
      "\u001b[1;31mTransportableException\u001b[0m                    Traceback (most recent call last)",
      "\u001b[1;32m~\\AppData\\Roaming\\Python\\Python35\\site-packages\\sklearn\\externals\\joblib\\parallel.py\u001b[0m in \u001b[0;36mretrieve\u001b[1;34m(self)\u001b[0m\n\u001b[0;32m    681\u001b[0m                 \u001b[1;32mif\u001b[0m \u001b[1;34m'timeout'\u001b[0m \u001b[1;32min\u001b[0m \u001b[0mgetfullargspec\u001b[0m\u001b[1;33m(\u001b[0m\u001b[0mjob\u001b[0m\u001b[1;33m.\u001b[0m\u001b[0mget\u001b[0m\u001b[1;33m)\u001b[0m\u001b[1;33m.\u001b[0m\u001b[0margs\u001b[0m\u001b[1;33m:\u001b[0m\u001b[1;33m\u001b[0m\u001b[0m\n\u001b[1;32m--> 682\u001b[1;33m                     \u001b[0mself\u001b[0m\u001b[1;33m.\u001b[0m\u001b[0m_output\u001b[0m\u001b[1;33m.\u001b[0m\u001b[0mextend\u001b[0m\u001b[1;33m(\u001b[0m\u001b[0mjob\u001b[0m\u001b[1;33m.\u001b[0m\u001b[0mget\u001b[0m\u001b[1;33m(\u001b[0m\u001b[0mtimeout\u001b[0m\u001b[1;33m=\u001b[0m\u001b[0mself\u001b[0m\u001b[1;33m.\u001b[0m\u001b[0mtimeout\u001b[0m\u001b[1;33m)\u001b[0m\u001b[1;33m)\u001b[0m\u001b[1;33m\u001b[0m\u001b[0m\n\u001b[0m\u001b[0;32m    683\u001b[0m                 \u001b[1;32melse\u001b[0m\u001b[1;33m:\u001b[0m\u001b[1;33m\u001b[0m\u001b[0m\n",
      "\u001b[1;32m~\\Anaconda3\\lib\\multiprocessing\\pool.py\u001b[0m in \u001b[0;36mget\u001b[1;34m(self, timeout)\u001b[0m\n\u001b[0;32m    643\u001b[0m         \u001b[1;32melse\u001b[0m\u001b[1;33m:\u001b[0m\u001b[1;33m\u001b[0m\u001b[0m\n\u001b[1;32m--> 644\u001b[1;33m             \u001b[1;32mraise\u001b[0m \u001b[0mself\u001b[0m\u001b[1;33m.\u001b[0m\u001b[0m_value\u001b[0m\u001b[1;33m\u001b[0m\u001b[0m\n\u001b[0m\u001b[0;32m    645\u001b[0m \u001b[1;33m\u001b[0m\u001b[0m\n",
      "\u001b[1;31mTransportableException\u001b[0m: TransportableException\n___________________________________________________________________________\nValueError                                         Mon Dec 17 12:23:15 2018\nPID: 5116                  Python 3.5.4: C:\\Users\\Егор\\Anaconda3\\python.exe\n...........................................................................\nC:\\Users\\Егор\\AppData\\Roaming\\Python\\Python35\\site-packages\\sklearn\\externals\\joblib\\parallel.py in __call__(self=<sklearn.externals.joblib.parallel.BatchedCalls object>)\n    126     def __init__(self, iterator_slice):\n    127         self.items = list(iterator_slice)\n    128         self._size = len(self.items)\n    129 \n    130     def __call__(self):\n--> 131         return [func(*args, **kwargs) for func, args, kwargs in self.items]\n        self.items = [(<function _fit_and_score>, (BaggingClassifier(base_estimator=LogisticRegress...    random_state=42, verbose=0, warm_start=False),        age  NumberOfTime30-59DaysPastDueNotWorse...0                 2.0  \n\n[45063 rows x 7 columns], 0        0\n1        0\n2        0\n3        0\n4   ...0\n45062    1\nName: SeriousDlqin2yrs, dtype: int64, make_scorer(roc_auc_score, needs_threshold=True), array([    0,     1,     2, ..., 45059, 45060, 45061]), array([    3,     4,     6, ..., 45047, 45056, 45062]), 1, {'max_depth': 15, 'max_features': 2, 'min_samples_leaf': 3}), {'error_score': 'raise', 'fit_params': {}, 'return_n_test_samples': True, 'return_parameters': True, 'return_times': True, 'return_train_score': True})]\n    132 \n    133     def __len__(self):\n    134         return self._size\n    135 \n\n...........................................................................\nC:\\Users\\Егор\\AppData\\Roaming\\Python\\Python35\\site-packages\\sklearn\\externals\\joblib\\parallel.py in <listcomp>(.0=<list_iterator object>)\n    126     def __init__(self, iterator_slice):\n    127         self.items = list(iterator_slice)\n    128         self._size = len(self.items)\n    129 \n    130     def __call__(self):\n--> 131         return [func(*args, **kwargs) for func, args, kwargs in self.items]\n        func = <function _fit_and_score>\n        args = (BaggingClassifier(base_estimator=LogisticRegress...    random_state=42, verbose=0, warm_start=False),        age  NumberOfTime30-59DaysPastDueNotWorse...0                 2.0  \n\n[45063 rows x 7 columns], 0        0\n1        0\n2        0\n3        0\n4   ...0\n45062    1\nName: SeriousDlqin2yrs, dtype: int64, make_scorer(roc_auc_score, needs_threshold=True), array([    0,     1,     2, ..., 45059, 45060, 45061]), array([    3,     4,     6, ..., 45047, 45056, 45062]), 1, {'max_depth': 15, 'max_features': 2, 'min_samples_leaf': 3})\n        kwargs = {'error_score': 'raise', 'fit_params': {}, 'return_n_test_samples': True, 'return_parameters': True, 'return_times': True, 'return_train_score': True}\n    132 \n    133     def __len__(self):\n    134         return self._size\n    135 \n\n...........................................................................\nC:\\Users\\Егор\\AppData\\Roaming\\Python\\Python35\\site-packages\\sklearn\\model_selection\\_validation.py in _fit_and_score(estimator=BaggingClassifier(base_estimator=LogisticRegress...    random_state=42, verbose=0, warm_start=False), X=       age  NumberOfTime30-59DaysPastDueNotWorse...0                 2.0  \n\n[45063 rows x 7 columns], y=0        0\n1        0\n2        0\n3        0\n4   ...0\n45062    1\nName: SeriousDlqin2yrs, dtype: int64, scorer=make_scorer(roc_auc_score, needs_threshold=True), train=array([    0,     1,     2, ..., 45059, 45060, 45061]), test=array([    3,     4,     6, ..., 45047, 45056, 45062]), verbose=1, parameters={'max_depth': 15, 'max_features': 2, 'min_samples_leaf': 3}, fit_params={}, return_train_score=True, return_parameters=True, return_n_test_samples=True, return_times=True, error_score='raise')\n    222     fit_params = fit_params if fit_params is not None else {}\n    223     fit_params = dict([(k, _index_param_value(X, v, train))\n    224                       for k, v in fit_params.items()])\n    225 \n    226     if parameters is not None:\n--> 227         estimator.set_params(**parameters)\n        estimator.set_params = <bound method BaseEstimator.set_params of Baggin...   random_state=42, verbose=0, warm_start=False)>\n        parameters = {'max_depth': 15, 'max_features': 2, 'min_samples_leaf': 3}\n    228 \n    229     start_time = time.time()\n    230 \n    231     X_train, y_train = _safe_split(estimator, X, y, train)\n\n...........................................................................\nC:\\Users\\Егор\\AppData\\Roaming\\Python\\Python35\\site-packages\\sklearn\\base.py in set_params(self=BaggingClassifier(base_estimator=LogisticRegress...    random_state=42, verbose=0, warm_start=False), **params={'max_depth': 15, 'max_features': 2, 'min_samples_leaf': 3})\n    286                 # simple objects case\n    287                 if key not in valid_params:\n    288                     raise ValueError('Invalid parameter %s for estimator %s. '\n    289                                      'Check the list of available parameters '\n    290                                      'with `estimator.get_params().keys()`.' %\n--> 291                                      (key, self.__class__.__name__))\n        key = 'max_depth'\n        self.__class__.__name__ = 'BaggingClassifier'\n    292                 setattr(self, key, value)\n    293         return self\n    294 \n    295     def __repr__(self):\n\nValueError: Invalid parameter max_depth for estimator BaggingClassifier. Check the list of available parameters with `estimator.get_params().keys()`.\n___________________________________________________________________________",
      "\nDuring handling of the above exception, another exception occurred:\n",
      "\u001b[1;31mJoblibValueError\u001b[0m                          Traceback (most recent call last)",
      "\u001b[1;32m<timed exec>\u001b[0m in \u001b[0;36m<module>\u001b[1;34m()\u001b[0m\n",
      "\u001b[1;32m~\\AppData\\Roaming\\Python\\Python35\\site-packages\\sklearn\\model_selection\\_search.py\u001b[0m in \u001b[0;36mfit\u001b[1;34m(self, X, y, groups)\u001b[0m\n\u001b[0;32m   1183\u001b[0m                                           \u001b[0mself\u001b[0m\u001b[1;33m.\u001b[0m\u001b[0mn_iter\u001b[0m\u001b[1;33m,\u001b[0m\u001b[1;33m\u001b[0m\u001b[0m\n\u001b[0;32m   1184\u001b[0m                                           random_state=self.random_state)\n\u001b[1;32m-> 1185\u001b[1;33m         \u001b[1;32mreturn\u001b[0m \u001b[0mself\u001b[0m\u001b[1;33m.\u001b[0m\u001b[0m_fit\u001b[0m\u001b[1;33m(\u001b[0m\u001b[0mX\u001b[0m\u001b[1;33m,\u001b[0m \u001b[0my\u001b[0m\u001b[1;33m,\u001b[0m \u001b[0mgroups\u001b[0m\u001b[1;33m,\u001b[0m \u001b[0msampled_params\u001b[0m\u001b[1;33m)\u001b[0m\u001b[1;33m\u001b[0m\u001b[0m\n\u001b[0m",
      "\u001b[1;32m~\\AppData\\Roaming\\Python\\Python35\\site-packages\\sklearn\\model_selection\\_search.py\u001b[0m in \u001b[0;36m_fit\u001b[1;34m(self, X, y, groups, parameter_iterable)\u001b[0m\n\u001b[0;32m    560\u001b[0m                                   \u001b[0mreturn_times\u001b[0m\u001b[1;33m=\u001b[0m\u001b[1;32mTrue\u001b[0m\u001b[1;33m,\u001b[0m \u001b[0mreturn_parameters\u001b[0m\u001b[1;33m=\u001b[0m\u001b[1;32mTrue\u001b[0m\u001b[1;33m,\u001b[0m\u001b[1;33m\u001b[0m\u001b[0m\n\u001b[0;32m    561\u001b[0m                                   error_score=self.error_score)\n\u001b[1;32m--> 562\u001b[1;33m           \u001b[1;32mfor\u001b[0m \u001b[0mparameters\u001b[0m \u001b[1;32min\u001b[0m \u001b[0mparameter_iterable\u001b[0m\u001b[1;33m\u001b[0m\u001b[0m\n\u001b[0m\u001b[0;32m    563\u001b[0m           for train, test in cv.split(X, y, groups))\n\u001b[0;32m    564\u001b[0m \u001b[1;33m\u001b[0m\u001b[0m\n",
      "\u001b[1;32m~\\AppData\\Roaming\\Python\\Python35\\site-packages\\sklearn\\externals\\joblib\\parallel.py\u001b[0m in \u001b[0;36m__call__\u001b[1;34m(self, iterable)\u001b[0m\n\u001b[0;32m    766\u001b[0m                 \u001b[1;31m# consumption.\u001b[0m\u001b[1;33m\u001b[0m\u001b[1;33m\u001b[0m\u001b[0m\n\u001b[0;32m    767\u001b[0m                 \u001b[0mself\u001b[0m\u001b[1;33m.\u001b[0m\u001b[0m_iterating\u001b[0m \u001b[1;33m=\u001b[0m \u001b[1;32mFalse\u001b[0m\u001b[1;33m\u001b[0m\u001b[0m\n\u001b[1;32m--> 768\u001b[1;33m             \u001b[0mself\u001b[0m\u001b[1;33m.\u001b[0m\u001b[0mretrieve\u001b[0m\u001b[1;33m(\u001b[0m\u001b[1;33m)\u001b[0m\u001b[1;33m\u001b[0m\u001b[0m\n\u001b[0m\u001b[0;32m    769\u001b[0m             \u001b[1;31m# Make sure that we get a last message telling us we are done\u001b[0m\u001b[1;33m\u001b[0m\u001b[1;33m\u001b[0m\u001b[0m\n\u001b[0;32m    770\u001b[0m             \u001b[0melapsed_time\u001b[0m \u001b[1;33m=\u001b[0m \u001b[0mtime\u001b[0m\u001b[1;33m.\u001b[0m\u001b[0mtime\u001b[0m\u001b[1;33m(\u001b[0m\u001b[1;33m)\u001b[0m \u001b[1;33m-\u001b[0m \u001b[0mself\u001b[0m\u001b[1;33m.\u001b[0m\u001b[0m_start_time\u001b[0m\u001b[1;33m\u001b[0m\u001b[0m\n",
      "\u001b[1;32m~\\AppData\\Roaming\\Python\\Python35\\site-packages\\sklearn\\externals\\joblib\\parallel.py\u001b[0m in \u001b[0;36mretrieve\u001b[1;34m(self)\u001b[0m\n\u001b[0;32m    717\u001b[0m                     \u001b[0mensure_ready\u001b[0m \u001b[1;33m=\u001b[0m \u001b[0mself\u001b[0m\u001b[1;33m.\u001b[0m\u001b[0m_managed_backend\u001b[0m\u001b[1;33m\u001b[0m\u001b[0m\n\u001b[0;32m    718\u001b[0m                     \u001b[0mbackend\u001b[0m\u001b[1;33m.\u001b[0m\u001b[0mabort_everything\u001b[0m\u001b[1;33m(\u001b[0m\u001b[0mensure_ready\u001b[0m\u001b[1;33m=\u001b[0m\u001b[0mensure_ready\u001b[0m\u001b[1;33m)\u001b[0m\u001b[1;33m\u001b[0m\u001b[0m\n\u001b[1;32m--> 719\u001b[1;33m                 \u001b[1;32mraise\u001b[0m \u001b[0mexception\u001b[0m\u001b[1;33m\u001b[0m\u001b[0m\n\u001b[0m\u001b[0;32m    720\u001b[0m \u001b[1;33m\u001b[0m\u001b[0m\n\u001b[0;32m    721\u001b[0m     \u001b[1;32mdef\u001b[0m \u001b[0m__call__\u001b[0m\u001b[1;33m(\u001b[0m\u001b[0mself\u001b[0m\u001b[1;33m,\u001b[0m \u001b[0miterable\u001b[0m\u001b[1;33m)\u001b[0m\u001b[1;33m:\u001b[0m\u001b[1;33m\u001b[0m\u001b[0m\n",
      "\u001b[1;31mJoblibValueError\u001b[0m: JoblibValueError\n___________________________________________________________________________\nMultiprocessing exception:\n...........................................................................\nC:\\Users\\Егор\\Anaconda3\\lib\\runpy.py in _run_module_as_main(mod_name='ipykernel_launcher', alter_argv=1)\n    188         sys.exit(msg)\n    189     main_globals = sys.modules[\"__main__\"].__dict__\n    190     if alter_argv:\n    191         sys.argv[0] = mod_spec.origin\n    192     return _run_code(code, main_globals, None,\n--> 193                      \"__main__\", mod_spec)\n        mod_spec = ModuleSpec(name='ipykernel_launcher', loader=<_f...nda3\\\\lib\\\\site-packages\\\\ipykernel_launcher.py')\n    194 \n    195 def run_module(mod_name, init_globals=None,\n    196                run_name=None, alter_sys=False):\n    197     \"\"\"Execute a module's code without importing it\n\n...........................................................................\nC:\\Users\\Егор\\Anaconda3\\lib\\runpy.py in _run_code(code=<code object <module> at 0x00000000009ADAE0, fil...lib\\site-packages\\ipykernel_launcher.py\", line 5>, run_globals={'__builtins__': <module 'builtins' (built-in)>, '__cached__': r'C:\\Users\\Егор\\Anaconda3\\lib\\site-packages\\__pycache__\\ipykernel_launcher.cpython-35.pyc', '__doc__': 'Entry point for launching an IPython kernel.\\n\\nTh...orts until\\nafter removing the cwd from sys.path.\\n', '__file__': r'C:\\Users\\Егор\\Anaconda3\\lib\\site-packages\\ipykernel_launcher.py', '__loader__': <_frozen_importlib_external.SourceFileLoader object>, '__name__': '__main__', '__package__': '', '__spec__': ModuleSpec(name='ipykernel_launcher', loader=<_f...nda3\\\\lib\\\\site-packages\\\\ipykernel_launcher.py'), 'app': <module 'ipykernel.kernelapp' from 'C:\\\\Users\\\\Е...a3\\\\lib\\\\site-packages\\\\ipykernel\\\\kernelapp.py'>, 'sys': <module 'sys' (built-in)>}, init_globals=None, mod_name='__main__', mod_spec=ModuleSpec(name='ipykernel_launcher', loader=<_f...nda3\\\\lib\\\\site-packages\\\\ipykernel_launcher.py'), pkg_name='', script_name=None)\n     80                        __cached__ = cached,\n     81                        __doc__ = None,\n     82                        __loader__ = loader,\n     83                        __package__ = pkg_name,\n     84                        __spec__ = mod_spec)\n---> 85     exec(code, run_globals)\n        code = <code object <module> at 0x00000000009ADAE0, fil...lib\\site-packages\\ipykernel_launcher.py\", line 5>\n        run_globals = {'__builtins__': <module 'builtins' (built-in)>, '__cached__': r'C:\\Users\\Егор\\Anaconda3\\lib\\site-packages\\__pycache__\\ipykernel_launcher.cpython-35.pyc', '__doc__': 'Entry point for launching an IPython kernel.\\n\\nTh...orts until\\nafter removing the cwd from sys.path.\\n', '__file__': r'C:\\Users\\Егор\\Anaconda3\\lib\\site-packages\\ipykernel_launcher.py', '__loader__': <_frozen_importlib_external.SourceFileLoader object>, '__name__': '__main__', '__package__': '', '__spec__': ModuleSpec(name='ipykernel_launcher', loader=<_f...nda3\\\\lib\\\\site-packages\\\\ipykernel_launcher.py'), 'app': <module 'ipykernel.kernelapp' from 'C:\\\\Users\\\\Е...a3\\\\lib\\\\site-packages\\\\ipykernel\\\\kernelapp.py'>, 'sys': <module 'sys' (built-in)>}\n     86     return run_globals\n     87 \n     88 def _run_module_code(code, init_globals=None,\n     89                     mod_name=None, mod_spec=None,\n\n...........................................................................\nC:\\Users\\Егор\\Anaconda3\\lib\\site-packages\\ipykernel_launcher.py in <module>()\n     11     # This is added back by InteractiveShellApp.init_path()\n     12     if sys.path[0] == '':\n     13         del sys.path[0]\n     14 \n     15     from ipykernel import kernelapp as app\n---> 16     app.launch_new_instance()\n     17 \n     18 \n     19 \n     20 \n\n...........................................................................\nC:\\Users\\Егор\\Anaconda3\\lib\\site-packages\\traitlets\\config\\application.py in launch_instance(cls=<class 'ipykernel.kernelapp.IPKernelApp'>, argv=None, **kwargs={})\n    653 \n    654         If a global instance already exists, this reinitializes and starts it\n    655         \"\"\"\n    656         app = cls.instance(**kwargs)\n    657         app.initialize(argv)\n--> 658         app.start()\n        app.start = <bound method IPKernelApp.start of <ipykernel.kernelapp.IPKernelApp object>>\n    659 \n    660 #-----------------------------------------------------------------------------\n    661 # utility functions, for convenience\n    662 #-----------------------------------------------------------------------------\n\n...........................................................................\nC:\\Users\\Егор\\Anaconda3\\lib\\site-packages\\ipykernel\\kernelapp.py in start(self=<ipykernel.kernelapp.IPKernelApp object>)\n    472             return self.subapp.start()\n    473         if self.poller is not None:\n    474             self.poller.start()\n    475         self.kernel.start()\n    476         try:\n--> 477             ioloop.IOLoop.instance().start()\n    478         except KeyboardInterrupt:\n    479             pass\n    480 \n    481 launch_new_instance = IPKernelApp.launch_instance\n\n...........................................................................\nC:\\Users\\Егор\\Anaconda3\\lib\\site-packages\\zmq\\eventloop\\ioloop.py in start(self=<zmq.eventloop.ioloop.ZMQIOLoop object>)\n    172             )\n    173         return loop\n    174     \n    175     def start(self):\n    176         try:\n--> 177             super(ZMQIOLoop, self).start()\n        self.start = <bound method ZMQIOLoop.start of <zmq.eventloop.ioloop.ZMQIOLoop object>>\n    178         except ZMQError as e:\n    179             if e.errno == ETERM:\n    180                 # quietly return on ETERM\n    181                 pass\n\n...........................................................................\nC:\\Users\\Егор\\Anaconda3\\lib\\site-packages\\tornado\\ioloop.py in start(self=<zmq.eventloop.ioloop.ZMQIOLoop object>)\n    883                 self._events.update(event_pairs)\n    884                 while self._events:\n    885                     fd, events = self._events.popitem()\n    886                     try:\n    887                         fd_obj, handler_func = self._handlers[fd]\n--> 888                         handler_func(fd_obj, events)\n        handler_func = <function wrap.<locals>.null_wrapper>\n        fd_obj = <zmq.sugar.socket.Socket object>\n        events = 1\n    889                     except (OSError, IOError) as e:\n    890                         if errno_from_exception(e) == errno.EPIPE:\n    891                             # Happens when the client closes the connection\n    892                             pass\n\n...........................................................................\nC:\\Users\\Егор\\Anaconda3\\lib\\site-packages\\tornado\\stack_context.py in null_wrapper(*args=(<zmq.sugar.socket.Socket object>, 1), **kwargs={})\n    272         # Fast path when there are no active contexts.\n    273         def null_wrapper(*args, **kwargs):\n    274             try:\n    275                 current_state = _state.contexts\n    276                 _state.contexts = cap_contexts[0]\n--> 277                 return fn(*args, **kwargs)\n        args = (<zmq.sugar.socket.Socket object>, 1)\n        kwargs = {}\n    278             finally:\n    279                 _state.contexts = current_state\n    280         null_wrapper._wrapped = True\n    281         return null_wrapper\n\n...........................................................................\nC:\\Users\\Егор\\Anaconda3\\lib\\site-packages\\zmq\\eventloop\\zmqstream.py in _handle_events(self=<zmq.eventloop.zmqstream.ZMQStream object>, fd=<zmq.sugar.socket.Socket object>, events=1)\n    435             # dispatch events:\n    436             if events & IOLoop.ERROR:\n    437                 gen_log.error(\"got POLLERR event on ZMQStream, which doesn't make sense\")\n    438                 return\n    439             if events & IOLoop.READ:\n--> 440                 self._handle_recv()\n        self._handle_recv = <bound method ZMQStream._handle_recv of <zmq.eventloop.zmqstream.ZMQStream object>>\n    441                 if not self.socket:\n    442                     return\n    443             if events & IOLoop.WRITE:\n    444                 self._handle_send()\n\n...........................................................................\nC:\\Users\\Егор\\Anaconda3\\lib\\site-packages\\zmq\\eventloop\\zmqstream.py in _handle_recv(self=<zmq.eventloop.zmqstream.ZMQStream object>)\n    467                 gen_log.error(\"RECV Error: %s\"%zmq.strerror(e.errno))\n    468         else:\n    469             if self._recv_callback:\n    470                 callback = self._recv_callback\n    471                 # self._recv_callback = None\n--> 472                 self._run_callback(callback, msg)\n        self._run_callback = <bound method ZMQStream._run_callback of <zmq.eventloop.zmqstream.ZMQStream object>>\n        callback = <function wrap.<locals>.null_wrapper>\n        msg = [<zmq.sugar.frame.Frame object>, <zmq.sugar.frame.Frame object>, <zmq.sugar.frame.Frame object>, <zmq.sugar.frame.Frame object>, <zmq.sugar.frame.Frame object>, <zmq.sugar.frame.Frame object>, <zmq.sugar.frame.Frame object>]\n    473                 \n    474         # self.update_state()\n    475         \n    476 \n\n...........................................................................\nC:\\Users\\Егор\\Anaconda3\\lib\\site-packages\\zmq\\eventloop\\zmqstream.py in _run_callback(self=<zmq.eventloop.zmqstream.ZMQStream object>, callback=<function wrap.<locals>.null_wrapper>, *args=([<zmq.sugar.frame.Frame object>, <zmq.sugar.frame.Frame object>, <zmq.sugar.frame.Frame object>, <zmq.sugar.frame.Frame object>, <zmq.sugar.frame.Frame object>, <zmq.sugar.frame.Frame object>, <zmq.sugar.frame.Frame object>],), **kwargs={})\n    409         close our socket.\"\"\"\n    410         try:\n    411             # Use a NullContext to ensure that all StackContexts are run\n    412             # inside our blanket exception handler rather than outside.\n    413             with stack_context.NullContext():\n--> 414                 callback(*args, **kwargs)\n        callback = <function wrap.<locals>.null_wrapper>\n        args = ([<zmq.sugar.frame.Frame object>, <zmq.sugar.frame.Frame object>, <zmq.sugar.frame.Frame object>, <zmq.sugar.frame.Frame object>, <zmq.sugar.frame.Frame object>, <zmq.sugar.frame.Frame object>, <zmq.sugar.frame.Frame object>],)\n        kwargs = {}\n    415         except:\n    416             gen_log.error(\"Uncaught exception, closing connection.\",\n    417                           exc_info=True)\n    418             # Close the socket on an uncaught exception from a user callback\n\n...........................................................................\nC:\\Users\\Егор\\Anaconda3\\lib\\site-packages\\tornado\\stack_context.py in null_wrapper(*args=([<zmq.sugar.frame.Frame object>, <zmq.sugar.frame.Frame object>, <zmq.sugar.frame.Frame object>, <zmq.sugar.frame.Frame object>, <zmq.sugar.frame.Frame object>, <zmq.sugar.frame.Frame object>, <zmq.sugar.frame.Frame object>],), **kwargs={})\n    272         # Fast path when there are no active contexts.\n    273         def null_wrapper(*args, **kwargs):\n    274             try:\n    275                 current_state = _state.contexts\n    276                 _state.contexts = cap_contexts[0]\n--> 277                 return fn(*args, **kwargs)\n        args = ([<zmq.sugar.frame.Frame object>, <zmq.sugar.frame.Frame object>, <zmq.sugar.frame.Frame object>, <zmq.sugar.frame.Frame object>, <zmq.sugar.frame.Frame object>, <zmq.sugar.frame.Frame object>, <zmq.sugar.frame.Frame object>],)\n        kwargs = {}\n    278             finally:\n    279                 _state.contexts = current_state\n    280         null_wrapper._wrapped = True\n    281         return null_wrapper\n\n...........................................................................\nC:\\Users\\Егор\\Anaconda3\\lib\\site-packages\\ipykernel\\kernelbase.py in dispatcher(msg=[<zmq.sugar.frame.Frame object>, <zmq.sugar.frame.Frame object>, <zmq.sugar.frame.Frame object>, <zmq.sugar.frame.Frame object>, <zmq.sugar.frame.Frame object>, <zmq.sugar.frame.Frame object>, <zmq.sugar.frame.Frame object>])\n    278         if self.control_stream:\n    279             self.control_stream.on_recv(self.dispatch_control, copy=False)\n    280 \n    281         def make_dispatcher(stream):\n    282             def dispatcher(msg):\n--> 283                 return self.dispatch_shell(stream, msg)\n        msg = [<zmq.sugar.frame.Frame object>, <zmq.sugar.frame.Frame object>, <zmq.sugar.frame.Frame object>, <zmq.sugar.frame.Frame object>, <zmq.sugar.frame.Frame object>, <zmq.sugar.frame.Frame object>, <zmq.sugar.frame.Frame object>]\n    284             return dispatcher\n    285 \n    286         for s in self.shell_streams:\n    287             s.on_recv(make_dispatcher(s), copy=False)\n\n...........................................................................\nC:\\Users\\Егор\\Anaconda3\\lib\\site-packages\\ipykernel\\kernelbase.py in dispatch_shell(self=<ipykernel.ipkernel.IPythonKernel object>, stream=<zmq.eventloop.zmqstream.ZMQStream object>, msg={'buffers': [], 'content': {'allow_stdin': True, 'code': '%%time\\nbagging = BaggingClassifier(random_state=...20)\\nRCV.fit(X,y)### Ваш код должен быть здесь ###', 'silent': False, 'stop_on_error': True, 'store_history': True, 'user_expressions': {}}, 'header': {'date': datetime.datetime(2018, 12, 17, 5, 23, 13, 996470, tzinfo=tzutc()), 'msg_id': '5FC7557C47B14D25BEEBB20D0CF2DF41', 'msg_type': 'execute_request', 'session': 'CC9D4C7A1482494081C165A34B874B28', 'username': 'username', 'version': '5.0'}, 'metadata': {}, 'msg_id': '5FC7557C47B14D25BEEBB20D0CF2DF41', 'msg_type': 'execute_request', 'parent_header': {}})\n    230             self.log.warn(\"Unknown message type: %r\", msg_type)\n    231         else:\n    232             self.log.debug(\"%s: %s\", msg_type, msg)\n    233             self.pre_handler_hook()\n    234             try:\n--> 235                 handler(stream, idents, msg)\n        handler = <bound method Kernel.execute_request of <ipykernel.ipkernel.IPythonKernel object>>\n        stream = <zmq.eventloop.zmqstream.ZMQStream object>\n        idents = [b'CC9D4C7A1482494081C165A34B874B28']\n        msg = {'buffers': [], 'content': {'allow_stdin': True, 'code': '%%time\\nbagging = BaggingClassifier(random_state=...20)\\nRCV.fit(X,y)### Ваш код должен быть здесь ###', 'silent': False, 'stop_on_error': True, 'store_history': True, 'user_expressions': {}}, 'header': {'date': datetime.datetime(2018, 12, 17, 5, 23, 13, 996470, tzinfo=tzutc()), 'msg_id': '5FC7557C47B14D25BEEBB20D0CF2DF41', 'msg_type': 'execute_request', 'session': 'CC9D4C7A1482494081C165A34B874B28', 'username': 'username', 'version': '5.0'}, 'metadata': {}, 'msg_id': '5FC7557C47B14D25BEEBB20D0CF2DF41', 'msg_type': 'execute_request', 'parent_header': {}}\n    236             except Exception:\n    237                 self.log.error(\"Exception in message handler:\", exc_info=True)\n    238             finally:\n    239                 self.post_handler_hook()\n\n...........................................................................\nC:\\Users\\Егор\\Anaconda3\\lib\\site-packages\\ipykernel\\kernelbase.py in execute_request(self=<ipykernel.ipkernel.IPythonKernel object>, stream=<zmq.eventloop.zmqstream.ZMQStream object>, ident=[b'CC9D4C7A1482494081C165A34B874B28'], parent={'buffers': [], 'content': {'allow_stdin': True, 'code': '%%time\\nbagging = BaggingClassifier(random_state=...20)\\nRCV.fit(X,y)### Ваш код должен быть здесь ###', 'silent': False, 'stop_on_error': True, 'store_history': True, 'user_expressions': {}}, 'header': {'date': datetime.datetime(2018, 12, 17, 5, 23, 13, 996470, tzinfo=tzutc()), 'msg_id': '5FC7557C47B14D25BEEBB20D0CF2DF41', 'msg_type': 'execute_request', 'session': 'CC9D4C7A1482494081C165A34B874B28', 'username': 'username', 'version': '5.0'}, 'metadata': {}, 'msg_id': '5FC7557C47B14D25BEEBB20D0CF2DF41', 'msg_type': 'execute_request', 'parent_header': {}})\n    394         if not silent:\n    395             self.execution_count += 1\n    396             self._publish_execute_input(code, parent, self.execution_count)\n    397 \n    398         reply_content = self.do_execute(code, silent, store_history,\n--> 399                                         user_expressions, allow_stdin)\n        user_expressions = {}\n        allow_stdin = True\n    400 \n    401         # Flush output before sending the reply.\n    402         sys.stdout.flush()\n    403         sys.stderr.flush()\n\n...........................................................................\nC:\\Users\\Егор\\Anaconda3\\lib\\site-packages\\ipykernel\\ipkernel.py in do_execute(self=<ipykernel.ipkernel.IPythonKernel object>, code='%%time\\nbagging = BaggingClassifier(random_state=...20)\\nRCV.fit(X,y)### Ваш код должен быть здесь ###', silent=False, store_history=True, user_expressions={}, allow_stdin=True)\n    191 \n    192         self._forward_input(allow_stdin)\n    193 \n    194         reply_content = {}\n    195         try:\n--> 196             res = shell.run_cell(code, store_history=store_history, silent=silent)\n        res = undefined\n        shell.run_cell = <bound method ZMQInteractiveShell.run_cell of <ipykernel.zmqshell.ZMQInteractiveShell object>>\n        code = '%%time\\nbagging = BaggingClassifier(random_state=...20)\\nRCV.fit(X,y)### Ваш код должен быть здесь ###'\n        store_history = True\n        silent = False\n    197         finally:\n    198             self._restore_input()\n    199 \n    200         if res.error_before_exec is not None:\n\n...........................................................................\nC:\\Users\\Егор\\Anaconda3\\lib\\site-packages\\ipykernel\\zmqshell.py in run_cell(self=<ipykernel.zmqshell.ZMQInteractiveShell object>, *args=('%%time\\nbagging = BaggingClassifier(random_state=...20)\\nRCV.fit(X,y)### Ваш код должен быть здесь ###',), **kwargs={'silent': False, 'store_history': True})\n    528             )\n    529         self.payload_manager.write_payload(payload)\n    530 \n    531     def run_cell(self, *args, **kwargs):\n    532         self._last_traceback = None\n--> 533         return super(ZMQInteractiveShell, self).run_cell(*args, **kwargs)\n        self.run_cell = <bound method ZMQInteractiveShell.run_cell of <ipykernel.zmqshell.ZMQInteractiveShell object>>\n        args = ('%%time\\nbagging = BaggingClassifier(random_state=...20)\\nRCV.fit(X,y)### Ваш код должен быть здесь ###',)\n        kwargs = {'silent': False, 'store_history': True}\n    534 \n    535     def _showtraceback(self, etype, evalue, stb):\n    536         # try to preserve ordering of tracebacks and print statements\n    537         sys.stdout.flush()\n\n...........................................................................\nC:\\Users\\Егор\\Anaconda3\\lib\\site-packages\\IPython\\core\\interactiveshell.py in run_cell(self=<ipykernel.zmqshell.ZMQInteractiveShell object>, raw_cell='%%time\\nbagging = BaggingClassifier(random_state=...20)\\nRCV.fit(X,y)### Ваш код должен быть здесь ###', store_history=True, silent=False, shell_futures=True)\n   2693                 self.displayhook.exec_result = result\n   2694 \n   2695                 # Execute the user code\n   2696                 interactivity = \"none\" if silent else self.ast_node_interactivity\n   2697                 has_raised = self.run_ast_nodes(code_ast.body, cell_name,\n-> 2698                    interactivity=interactivity, compiler=compiler, result=result)\n        interactivity = 'last_expr'\n        compiler = <IPython.core.compilerop.CachingCompiler object>\n   2699                 \n   2700                 self.last_execution_succeeded = not has_raised\n   2701 \n   2702                 # Reset this so later displayed values do not modify the\n\n...........................................................................\nC:\\Users\\Егор\\Anaconda3\\lib\\site-packages\\IPython\\core\\interactiveshell.py in run_ast_nodes(self=<ipykernel.zmqshell.ZMQInteractiveShell object>, nodelist=[<_ast.Expr object>], cell_name='<ipython-input-16-5a4d4feea7dc>', interactivity='last', compiler=<IPython.core.compilerop.CachingCompiler object>, result=<ExecutionResult object at 60a45c0, execution_co..._before_exec=None error_in_exec=None result=None>)\n   2803                     return True\n   2804 \n   2805             for i, node in enumerate(to_run_interactive):\n   2806                 mod = ast.Interactive([node])\n   2807                 code = compiler(mod, cell_name, \"single\")\n-> 2808                 if self.run_code(code, result):\n        self.run_code = <bound method InteractiveShell.run_code of <ipykernel.zmqshell.ZMQInteractiveShell object>>\n        code = <code object <module> at 0x000000000AFE7B70, file \"<ipython-input-16-5a4d4feea7dc>\", line 1>\n        result = <ExecutionResult object at 60a45c0, execution_co..._before_exec=None error_in_exec=None result=None>\n   2809                     return True\n   2810 \n   2811             # Flush softspace\n   2812             if softspace(sys.stdout, 0):\n\n...........................................................................\nC:\\Users\\Егор\\Anaconda3\\lib\\site-packages\\IPython\\core\\interactiveshell.py in run_code(self=<ipykernel.zmqshell.ZMQInteractiveShell object>, code_obj=<code object <module> at 0x000000000AFE7B70, file \"<ipython-input-16-5a4d4feea7dc>\", line 1>, result=<ExecutionResult object at 60a45c0, execution_co..._before_exec=None error_in_exec=None result=None>)\n   2857         outflag = True  # happens in more places, so it's easier as default\n   2858         try:\n   2859             try:\n   2860                 self.hooks.pre_run_code_hook()\n   2861                 #rprint('Running code', repr(code_obj)) # dbg\n-> 2862                 exec(code_obj, self.user_global_ns, self.user_ns)\n        code_obj = <code object <module> at 0x000000000AFE7B70, file \"<ipython-input-16-5a4d4feea7dc>\", line 1>\n        self.user_global_ns = {'BaggingClassifier': <class 'sklearn.ensemble.bagging.BaggingClassifier'>, 'GridSearchCV': <class 'sklearn.model_selection._search.GridSearchCV'>, 'In': ['', \"get_ipython().magic('matplotlib inline')\\nimport ...('ignore')\\nimport pandas as pd\\nimport numpy as np\", '## Сделаем функцию, которая будет заменять NaN з...].fillna(table[col].median())\\n    return table   ', \"## Считываем данные\\ndata = pd.read_csv('../data/credit_scoring_sample.csv', sep =';')\\ndata.head(20)\", '## Рассмотрим типы считанных данных\\ndata.dtypes', \"## Посмотрим на распределение классов в зависимо...['SeriousDlqin2yrs'].value_counts()/data.shape[0]\", \"## Выберем названия всех признаков из таблицы, к... != 'SeriousDlqin2yrs']\\nindependent_columns_names\", '## Применяем функцию, заменяющую все NaN значени... соответствующего столбца\\ntable =delete_nan(data)', \"## Разделяем таргет и признаки \\nX =table[independent_columns_names]\\ny = table['SeriousDlqin2yrs']\", 'get_ipython().run_cell_magic(\\'time\\', \\'\\', \"baggin...\\\\nRCV.fit(X,y)### Ваш код должен быть здесь ###\")', 'from sklearn.ensemble import BaggingClassifier\\nf...estimator__C\": [0.0001, 0.001, 0.01, 1, 10, 100]}', 'get_ipython().run_cell_magic(\\'time\\', \\'\\', \"baggin...\\\\nRCV.fit(X,y)### Ваш код должен быть здесь ###\")', 'from sklearn.linear_model import LogisticRegress...edKFold(n_splits=5, shuffle=True, random_state=5)', 'get_ipython().run_cell_magic(\\'time\\', \\'\\', \"baggin...\\\\nRCV.fit(X,y)### Ваш код должен быть здесь ###\")', 'get_ipython().run_cell_magic(\\'time\\', \\'\\', \"baggin...\\\\nRCV.fit(X,y)### Ваш код должен быть здесь ###\")', 'from sklearn.ensemble import RandomForestClassif...я которой должна у вас продолжать храниться в skf', 'get_ipython().run_cell_magic(\\'time\\', \\'\\', \"baggin...\\\\nRCV.fit(X,y)### Ваш код должен быть здесь ###\")'], 'LogisticRegression': <class 'sklearn.linear_model.logistic.LogisticRegression'>, 'Out': {3:     SeriousDlqin2yrs  age  NumberOfTime30-59Days...    1.0  \n19         6500.0                 0.0  , 4: SeriousDlqin2yrs                          int64\n...ndents                      float64\ndtype: object, 5: 0    0.777511\n1    0.222489\nName: SeriousDlqin2yrs, dtype: float64, 6: ['age', 'NumberOfTime30-59DaysPastDueNotWorse', 'DebtRatio', 'NumberOfTimes90DaysLate', 'NumberOfTime60-89DaysPastDueNotWorse', 'MonthlyIncome', 'NumberOfDependents']}, 'RCV': RandomizedSearchCV(cv=StratifiedKFold(n_splits=5...n_train_score=True, scoring='roc_auc', verbose=1), 'RandomForestClassifier': <class 'sklearn.ensemble.forest.RandomForestClassifier'>, 'RandomizedSearchCV': <class 'sklearn.model_selection._search.RandomizedSearchCV'>, 'StratifiedKFold': <class 'sklearn.model_selection._split.StratifiedKFold'>, 'X':        age  NumberOfTime30-59DaysPastDueNotWorse...0                 2.0  \n\n[45063 rows x 7 columns], ...}\n        self.user_ns = {'BaggingClassifier': <class 'sklearn.ensemble.bagging.BaggingClassifier'>, 'GridSearchCV': <class 'sklearn.model_selection._search.GridSearchCV'>, 'In': ['', \"get_ipython().magic('matplotlib inline')\\nimport ...('ignore')\\nimport pandas as pd\\nimport numpy as np\", '## Сделаем функцию, которая будет заменять NaN з...].fillna(table[col].median())\\n    return table   ', \"## Считываем данные\\ndata = pd.read_csv('../data/credit_scoring_sample.csv', sep =';')\\ndata.head(20)\", '## Рассмотрим типы считанных данных\\ndata.dtypes', \"## Посмотрим на распределение классов в зависимо...['SeriousDlqin2yrs'].value_counts()/data.shape[0]\", \"## Выберем названия всех признаков из таблицы, к... != 'SeriousDlqin2yrs']\\nindependent_columns_names\", '## Применяем функцию, заменяющую все NaN значени... соответствующего столбца\\ntable =delete_nan(data)', \"## Разделяем таргет и признаки \\nX =table[independent_columns_names]\\ny = table['SeriousDlqin2yrs']\", 'get_ipython().run_cell_magic(\\'time\\', \\'\\', \"baggin...\\\\nRCV.fit(X,y)### Ваш код должен быть здесь ###\")', 'from sklearn.ensemble import BaggingClassifier\\nf...estimator__C\": [0.0001, 0.001, 0.01, 1, 10, 100]}', 'get_ipython().run_cell_magic(\\'time\\', \\'\\', \"baggin...\\\\nRCV.fit(X,y)### Ваш код должен быть здесь ###\")', 'from sklearn.linear_model import LogisticRegress...edKFold(n_splits=5, shuffle=True, random_state=5)', 'get_ipython().run_cell_magic(\\'time\\', \\'\\', \"baggin...\\\\nRCV.fit(X,y)### Ваш код должен быть здесь ###\")', 'get_ipython().run_cell_magic(\\'time\\', \\'\\', \"baggin...\\\\nRCV.fit(X,y)### Ваш код должен быть здесь ###\")', 'from sklearn.ensemble import RandomForestClassif...я которой должна у вас продолжать храниться в skf', 'get_ipython().run_cell_magic(\\'time\\', \\'\\', \"baggin...\\\\nRCV.fit(X,y)### Ваш код должен быть здесь ###\")'], 'LogisticRegression': <class 'sklearn.linear_model.logistic.LogisticRegression'>, 'Out': {3:     SeriousDlqin2yrs  age  NumberOfTime30-59Days...    1.0  \n19         6500.0                 0.0  , 4: SeriousDlqin2yrs                          int64\n...ndents                      float64\ndtype: object, 5: 0    0.777511\n1    0.222489\nName: SeriousDlqin2yrs, dtype: float64, 6: ['age', 'NumberOfTime30-59DaysPastDueNotWorse', 'DebtRatio', 'NumberOfTimes90DaysLate', 'NumberOfTime60-89DaysPastDueNotWorse', 'MonthlyIncome', 'NumberOfDependents']}, 'RCV': RandomizedSearchCV(cv=StratifiedKFold(n_splits=5...n_train_score=True, scoring='roc_auc', verbose=1), 'RandomForestClassifier': <class 'sklearn.ensemble.forest.RandomForestClassifier'>, 'RandomizedSearchCV': <class 'sklearn.model_selection._search.RandomizedSearchCV'>, 'StratifiedKFold': <class 'sklearn.model_selection._split.StratifiedKFold'>, 'X':        age  NumberOfTime30-59DaysPastDueNotWorse...0                 2.0  \n\n[45063 rows x 7 columns], ...}\n   2863             finally:\n   2864                 # Reset our crash handler in place\n   2865                 sys.excepthook = old_excepthook\n   2866         except SystemExit as e:\n\n...........................................................................\nC:\\Users\\Егор\\Documents\\GitHub\\ods2018\\labs\\<ipython-input-16-5a4d4feea7dc> in <module>()\n----> 1 \n      2 \n      3 \n      4 \n      5 \n      6 get_ipython().run_cell_magic('time', '', \"bagging = BaggingClassifier(random_state=42,base_estimator=lr,n_estimators=100)\\nRCV = RandomizedSearchCV(bagging,parameters, n_jobs=-1, cv=skf, verbose=1, scoring='roc_auc',random_state=1, n_iter =20)\\nRCV.fit(X,y)### Ваш код должен быть здесь ###\")\n      7 \n      8 \n      9 \n     10 \n\n...........................................................................\nC:\\Users\\Егор\\Anaconda3\\lib\\site-packages\\IPython\\core\\interactiveshell.py in run_cell_magic(self=<ipykernel.zmqshell.ZMQInteractiveShell object>, magic_name='time', line='', cell='bagging = BaggingClassifier(random_state=42,base...20)\\nRCV.fit(X,y)### Ваш код должен быть здесь ###')\n   2098             # This will need to be updated if the internal calling logic gets\n   2099             # refactored, or else we'll be expanding the wrong variables.\n   2100             stack_depth = 2\n   2101             magic_arg_s = self.var_expand(line, stack_depth)\n   2102             with self.builtin_trap:\n-> 2103                 result = fn(magic_arg_s, cell)\n        result = undefined\n        fn = <bound method ExecutionMagics.time of <IPython.core.magics.execution.ExecutionMagics object>>\n        magic_arg_s = ''\n        cell = 'bagging = BaggingClassifier(random_state=42,base...20)\\nRCV.fit(X,y)### Ваш код должен быть здесь ###'\n   2104             return result\n   2105 \n   2106     def find_line_magic(self, magic_name):\n   2107         \"\"\"Find and return a line magic by name.\n\n...........................................................................\nC:\\Users\\Егор\\Documents\\GitHub\\ods2018\\labs\\<decorator-gen-63> in time(self=<IPython.core.magics.execution.ExecutionMagics object>, line='', cell='bagging = BaggingClassifier(random_state=42,base...20)\\nRCV.fit(X,y)### Ваш код должен быть здесь ###', local_ns=None)\n      1 \n----> 2 \n      3 \n      4 \n      5 \n      6 \n      7 \n      8 \n      9 \n     10 \n\n...........................................................................\nC:\\Users\\Егор\\Anaconda3\\lib\\site-packages\\IPython\\core\\magic.py in <lambda>(f=<function ExecutionMagics.time>, *a=(<IPython.core.magics.execution.ExecutionMagics object>, '', 'bagging = BaggingClassifier(random_state=42,base...20)\\nRCV.fit(X,y)### Ваш код должен быть здесь ###', None), **k={})\n    182     validate_type(magic_kind)\n    183 \n    184     # This is a closure to capture the magic_kind.  We could also use a class,\n    185     # but it's overkill for just that one bit of state.\n    186     def magic_deco(arg):\n--> 187         call = lambda f, *a, **k: f(*a, **k)\n        f = <function ExecutionMagics.time>\n        a = (<IPython.core.magics.execution.ExecutionMagics object>, '', 'bagging = BaggingClassifier(random_state=42,base...20)\\nRCV.fit(X,y)### Ваш код должен быть здесь ###', None)\n        k = {}\n    188 \n    189         if callable(arg):\n    190             # \"Naked\" decorator call (just @foo, no args)\n    191             func = arg\n\n...........................................................................\nC:\\Users\\Егор\\Anaconda3\\lib\\site-packages\\IPython\\core\\magics\\execution.py in time(self=<IPython.core.magics.execution.ExecutionMagics object>, line='', cell='bagging = BaggingClassifier(random_state=42,base...20)\\nRCV.fit(X,y)### Ваш код должен быть здесь ###', local_ns=None)\n   1210                 return\n   1211             end = clock2()\n   1212         else:\n   1213             st = clock2()\n   1214             try:\n-> 1215                 exec(code, glob, local_ns)\n        code = <code object <module> at 0x000000000BE87AE0, file \"<timed exec>\", line 1>\n        glob = {'BaggingClassifier': <class 'sklearn.ensemble.bagging.BaggingClassifier'>, 'GridSearchCV': <class 'sklearn.model_selection._search.GridSearchCV'>, 'In': ['', \"get_ipython().magic('matplotlib inline')\\nimport ...('ignore')\\nimport pandas as pd\\nimport numpy as np\", '## Сделаем функцию, которая будет заменять NaN з...].fillna(table[col].median())\\n    return table   ', \"## Считываем данные\\ndata = pd.read_csv('../data/credit_scoring_sample.csv', sep =';')\\ndata.head(20)\", '## Рассмотрим типы считанных данных\\ndata.dtypes', \"## Посмотрим на распределение классов в зависимо...['SeriousDlqin2yrs'].value_counts()/data.shape[0]\", \"## Выберем названия всех признаков из таблицы, к... != 'SeriousDlqin2yrs']\\nindependent_columns_names\", '## Применяем функцию, заменяющую все NaN значени... соответствующего столбца\\ntable =delete_nan(data)', \"## Разделяем таргет и признаки \\nX =table[independent_columns_names]\\ny = table['SeriousDlqin2yrs']\", 'get_ipython().run_cell_magic(\\'time\\', \\'\\', \"baggin...\\\\nRCV.fit(X,y)### Ваш код должен быть здесь ###\")', 'from sklearn.ensemble import BaggingClassifier\\nf...estimator__C\": [0.0001, 0.001, 0.01, 1, 10, 100]}', 'get_ipython().run_cell_magic(\\'time\\', \\'\\', \"baggin...\\\\nRCV.fit(X,y)### Ваш код должен быть здесь ###\")', 'from sklearn.linear_model import LogisticRegress...edKFold(n_splits=5, shuffle=True, random_state=5)', 'get_ipython().run_cell_magic(\\'time\\', \\'\\', \"baggin...\\\\nRCV.fit(X,y)### Ваш код должен быть здесь ###\")', 'get_ipython().run_cell_magic(\\'time\\', \\'\\', \"baggin...\\\\nRCV.fit(X,y)### Ваш код должен быть здесь ###\")', 'from sklearn.ensemble import RandomForestClassif...я которой должна у вас продолжать храниться в skf', 'get_ipython().run_cell_magic(\\'time\\', \\'\\', \"baggin...\\\\nRCV.fit(X,y)### Ваш код должен быть здесь ###\")'], 'LogisticRegression': <class 'sklearn.linear_model.logistic.LogisticRegression'>, 'Out': {3:     SeriousDlqin2yrs  age  NumberOfTime30-59Days...    1.0  \n19         6500.0                 0.0  , 4: SeriousDlqin2yrs                          int64\n...ndents                      float64\ndtype: object, 5: 0    0.777511\n1    0.222489\nName: SeriousDlqin2yrs, dtype: float64, 6: ['age', 'NumberOfTime30-59DaysPastDueNotWorse', 'DebtRatio', 'NumberOfTimes90DaysLate', 'NumberOfTime60-89DaysPastDueNotWorse', 'MonthlyIncome', 'NumberOfDependents']}, 'RCV': RandomizedSearchCV(cv=StratifiedKFold(n_splits=5...n_train_score=True, scoring='roc_auc', verbose=1), 'RandomForestClassifier': <class 'sklearn.ensemble.forest.RandomForestClassifier'>, 'RandomizedSearchCV': <class 'sklearn.model_selection._search.RandomizedSearchCV'>, 'StratifiedKFold': <class 'sklearn.model_selection._split.StratifiedKFold'>, 'X':        age  NumberOfTime30-59DaysPastDueNotWorse...0                 2.0  \n\n[45063 rows x 7 columns], ...}\n        local_ns = None\n   1216             except:\n   1217                 self.shell.showtraceback()\n   1218                 return\n   1219             end = clock2()\n\n...........................................................................\nC:\\Users\\Егор\\Documents\\GitHub\\ods2018\\labs\\<timed exec> in <module>()\n      1 \n      2 \n----> 3 \n      4 \n      5 \n      6 \n      7 \n      8 \n      9 \n     10 \n\n...........................................................................\nC:\\Users\\Егор\\AppData\\Roaming\\Python\\Python35\\site-packages\\sklearn\\model_selection\\_search.py in fit(self=RandomizedSearchCV(cv=StratifiedKFold(n_splits=5...n_train_score=True, scoring='roc_auc', verbose=1), X=       age  NumberOfTime30-59DaysPastDueNotWorse...0                 2.0  \n\n[45063 rows x 7 columns], y=0        0\n1        0\n2        0\n3        0\n4   ...0\n45062    1\nName: SeriousDlqin2yrs, dtype: int64, groups=None)\n   1180             train/test set.\n   1181         \"\"\"\n   1182         sampled_params = ParameterSampler(self.param_distributions,\n   1183                                           self.n_iter,\n   1184                                           random_state=self.random_state)\n-> 1185         return self._fit(X, y, groups, sampled_params)\n        self._fit = <bound method BaseSearchCV._fit of RandomizedSea..._train_score=True, scoring='roc_auc', verbose=1)>\n        X =        age  NumberOfTime30-59DaysPastDueNotWorse...0                 2.0  \n\n[45063 rows x 7 columns]\n        y = 0        0\n1        0\n2        0\n3        0\n4   ...0\n45062    1\nName: SeriousDlqin2yrs, dtype: int64\n        groups = None\n        sampled_params = <sklearn.model_selection._search.ParameterSampler object>\n   1186 \n   1187 \n   1188 \n   1189 \n\n...........................................................................\nC:\\Users\\Егор\\AppData\\Roaming\\Python\\Python35\\site-packages\\sklearn\\model_selection\\_search.py in _fit(self=RandomizedSearchCV(cv=StratifiedKFold(n_splits=5...n_train_score=True, scoring='roc_auc', verbose=1), X=       age  NumberOfTime30-59DaysPastDueNotWorse...0                 2.0  \n\n[45063 rows x 7 columns], y=0        0\n1        0\n2        0\n3        0\n4   ...0\n45062    1\nName: SeriousDlqin2yrs, dtype: int64, groups=None, parameter_iterable=<sklearn.model_selection._search.ParameterSampler object>)\n    557                                   fit_params=self.fit_params,\n    558                                   return_train_score=self.return_train_score,\n    559                                   return_n_test_samples=True,\n    560                                   return_times=True, return_parameters=True,\n    561                                   error_score=self.error_score)\n--> 562           for parameters in parameter_iterable\n        parameters = undefined\n        parameter_iterable = <sklearn.model_selection._search.ParameterSampler object>\n    563           for train, test in cv.split(X, y, groups))\n    564 \n    565         # if one choose to see train score, \"out\" will contain train score info\n    566         if self.return_train_score:\n\n...........................................................................\nC:\\Users\\Егор\\AppData\\Roaming\\Python\\Python35\\site-packages\\sklearn\\externals\\joblib\\parallel.py in __call__(self=Parallel(n_jobs=-1), iterable=<generator object BaseSearchCV._fit.<locals>.<genexpr>>)\n    763             if pre_dispatch == \"all\" or n_jobs == 1:\n    764                 # The iterable was consumed all at once by the above for loop.\n    765                 # No need to wait for async callbacks to trigger to\n    766                 # consumption.\n    767                 self._iterating = False\n--> 768             self.retrieve()\n        self.retrieve = <bound method Parallel.retrieve of Parallel(n_jobs=-1)>\n    769             # Make sure that we get a last message telling us we are done\n    770             elapsed_time = time.time() - self._start_time\n    771             self._print('Done %3i out of %3i | elapsed: %s finished',\n    772                         (len(self._output), len(self._output),\n\n---------------------------------------------------------------------------\nSub-process traceback:\n---------------------------------------------------------------------------\nValueError                                         Mon Dec 17 12:23:15 2018\nPID: 5116                  Python 3.5.4: C:\\Users\\Егор\\Anaconda3\\python.exe\n...........................................................................\nC:\\Users\\Егор\\AppData\\Roaming\\Python\\Python35\\site-packages\\sklearn\\externals\\joblib\\parallel.py in __call__(self=<sklearn.externals.joblib.parallel.BatchedCalls object>)\n    126     def __init__(self, iterator_slice):\n    127         self.items = list(iterator_slice)\n    128         self._size = len(self.items)\n    129 \n    130     def __call__(self):\n--> 131         return [func(*args, **kwargs) for func, args, kwargs in self.items]\n        self.items = [(<function _fit_and_score>, (BaggingClassifier(base_estimator=LogisticRegress...    random_state=42, verbose=0, warm_start=False),        age  NumberOfTime30-59DaysPastDueNotWorse...0                 2.0  \n\n[45063 rows x 7 columns], 0        0\n1        0\n2        0\n3        0\n4   ...0\n45062    1\nName: SeriousDlqin2yrs, dtype: int64, make_scorer(roc_auc_score, needs_threshold=True), array([    0,     1,     2, ..., 45059, 45060, 45061]), array([    3,     4,     6, ..., 45047, 45056, 45062]), 1, {'max_depth': 15, 'max_features': 2, 'min_samples_leaf': 3}), {'error_score': 'raise', 'fit_params': {}, 'return_n_test_samples': True, 'return_parameters': True, 'return_times': True, 'return_train_score': True})]\n    132 \n    133     def __len__(self):\n    134         return self._size\n    135 \n\n...........................................................................\nC:\\Users\\Егор\\AppData\\Roaming\\Python\\Python35\\site-packages\\sklearn\\externals\\joblib\\parallel.py in <listcomp>(.0=<list_iterator object>)\n    126     def __init__(self, iterator_slice):\n    127         self.items = list(iterator_slice)\n    128         self._size = len(self.items)\n    129 \n    130     def __call__(self):\n--> 131         return [func(*args, **kwargs) for func, args, kwargs in self.items]\n        func = <function _fit_and_score>\n        args = (BaggingClassifier(base_estimator=LogisticRegress...    random_state=42, verbose=0, warm_start=False),        age  NumberOfTime30-59DaysPastDueNotWorse...0                 2.0  \n\n[45063 rows x 7 columns], 0        0\n1        0\n2        0\n3        0\n4   ...0\n45062    1\nName: SeriousDlqin2yrs, dtype: int64, make_scorer(roc_auc_score, needs_threshold=True), array([    0,     1,     2, ..., 45059, 45060, 45061]), array([    3,     4,     6, ..., 45047, 45056, 45062]), 1, {'max_depth': 15, 'max_features': 2, 'min_samples_leaf': 3})\n        kwargs = {'error_score': 'raise', 'fit_params': {}, 'return_n_test_samples': True, 'return_parameters': True, 'return_times': True, 'return_train_score': True}\n    132 \n    133     def __len__(self):\n    134         return self._size\n    135 \n\n...........................................................................\nC:\\Users\\Егор\\AppData\\Roaming\\Python\\Python35\\site-packages\\sklearn\\model_selection\\_validation.py in _fit_and_score(estimator=BaggingClassifier(base_estimator=LogisticRegress...    random_state=42, verbose=0, warm_start=False), X=       age  NumberOfTime30-59DaysPastDueNotWorse...0                 2.0  \n\n[45063 rows x 7 columns], y=0        0\n1        0\n2        0\n3        0\n4   ...0\n45062    1\nName: SeriousDlqin2yrs, dtype: int64, scorer=make_scorer(roc_auc_score, needs_threshold=True), train=array([    0,     1,     2, ..., 45059, 45060, 45061]), test=array([    3,     4,     6, ..., 45047, 45056, 45062]), verbose=1, parameters={'max_depth': 15, 'max_features': 2, 'min_samples_leaf': 3}, fit_params={}, return_train_score=True, return_parameters=True, return_n_test_samples=True, return_times=True, error_score='raise')\n    222     fit_params = fit_params if fit_params is not None else {}\n    223     fit_params = dict([(k, _index_param_value(X, v, train))\n    224                       for k, v in fit_params.items()])\n    225 \n    226     if parameters is not None:\n--> 227         estimator.set_params(**parameters)\n        estimator.set_params = <bound method BaseEstimator.set_params of Baggin...   random_state=42, verbose=0, warm_start=False)>\n        parameters = {'max_depth': 15, 'max_features': 2, 'min_samples_leaf': 3}\n    228 \n    229     start_time = time.time()\n    230 \n    231     X_train, y_train = _safe_split(estimator, X, y, train)\n\n...........................................................................\nC:\\Users\\Егор\\AppData\\Roaming\\Python\\Python35\\site-packages\\sklearn\\base.py in set_params(self=BaggingClassifier(base_estimator=LogisticRegress...    random_state=42, verbose=0, warm_start=False), **params={'max_depth': 15, 'max_features': 2, 'min_samples_leaf': 3})\n    286                 # simple objects case\n    287                 if key not in valid_params:\n    288                     raise ValueError('Invalid parameter %s for estimator %s. '\n    289                                      'Check the list of available parameters '\n    290                                      'with `estimator.get_params().keys()`.' %\n--> 291                                      (key, self.__class__.__name__))\n        key = 'max_depth'\n        self.__class__.__name__ = 'BaggingClassifier'\n    292                 setattr(self, key, value)\n    293         return self\n    294 \n    295     def __repr__(self):\n\nValueError: Invalid parameter max_depth for estimator BaggingClassifier. Check the list of available parameters with `estimator.get_params().keys()`.\n___________________________________________________________________________"
     ]
    }
   ],
   "source": [
    "%%time\n",
    "bagging = BaggingClassifier(random_state=42,n_estimators=100)\n",
    "RCV = RandomizedSearchCV(bagging,parameters, n_jobs=-1, cv=skf, verbose=1, scoring='roc_auc',random_state=1, n_iter =20)\n",
    "RCV.fit(X,y)### Ваш код должен быть здесь ###"
   ]
  },
  {
   "cell_type": "markdown",
   "metadata": {},
   "source": [
    "**Задача 12.** Дайте интерпретацию лучших параметров для бэггинга. Почему именно такие значения оказались лучшими?\n",
    "\n",
    "- для бэггинга важно использовать как можно меньше признаков\n",
    "- бэггинг лучше работает на небольших выборках\n",
    "- меньше корреляция между одиночными моделями\n",
    "- чем больше признаков, тем меньше теряется информации"
   ]
  }
 ],
 "metadata": {
  "anaconda-cloud": {},
  "kernelspec": {
   "display_name": "Python 3",
   "language": "python",
   "name": "python3"
  },
  "language_info": {
   "codemirror_mode": {
    "name": "ipython",
    "version": 3
   },
   "file_extension": ".py",
   "mimetype": "text/x-python",
   "name": "python",
   "nbconvert_exporter": "python",
   "pygments_lexer": "ipython3",
   "version": "3.5.4"
  }
 },
 "nbformat": 4,
 "nbformat_minor": 1
}
